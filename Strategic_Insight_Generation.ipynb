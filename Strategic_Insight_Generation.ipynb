{
 "cells": [
  {
   "cell_type": "markdown",
   "id": "b3cd7256-12db-490f-9ddf-caaa8e5070d5",
   "metadata": {},
   "source": [
    "All data used below to generate strategic insights"
   ]
  },
  {
   "cell_type": "code",
   "execution_count": 3,
   "id": "1dc046a3-64ef-43a2-ab95-05dd8641647f",
   "metadata": {},
   "outputs": [],
   "source": [
    "import os\n",
    "import pandas as pd\n",
    "import sqlite3\n",
    "from google.cloud import bigquery\n",
    "# Create BigQuery client\n",
    "client = bigquery.Client(project=\"main-cocoa-308521\")"
   ]
  },
  {
   "cell_type": "markdown",
   "id": "d62dc68e-0902-4315-b46f-52ff9ea605f8",
   "metadata": {},
   "source": [
    "Which stations show the biggest difference between weekday and weekend usage?"
   ]
  },
  {
   "cell_type": "code",
   "execution_count": 18,
   "id": "cb74295c-7738-4cfa-971a-058e8d25d4db",
   "metadata": {},
   "outputs": [
    {
     "name": "stderr",
     "output_type": "stream",
     "text": [
      "/Library/Frameworks/Python.framework/Versions/3.11/lib/python3.11/site-packages/google/cloud/bigquery/table.py:1965: UserWarning: BigQuery Storage module not found, fetch data with the REST endpoint instead.\n",
      "  warnings.warn(\n"
     ]
    },
    {
     "name": "stdout",
     "output_type": "stream",
     "text": [
      "         start_station_name  weekday_trips  weekend_trips  usage_diff\n",
      "0                                  5828994              0     5828994\n",
      "1     Pershing Square North         393615          44462      349153\n",
      "2           8 Ave & W 31 St         348074          53480      294594\n",
      "3           W 41 St & 8 Ave         270784          40619      230165\n",
      "4        Broadway & E 22 St         295823          71371      224452\n",
      "5           8 Ave & W 33 St         276441          53937      222504\n",
      "6           W 21 St & 6 Ave         308169          95626      212543\n",
      "7        E 17 St & Broadway         317713         105621      212092\n",
      "8           W 38 St & 8 Ave         242224          31357      210867\n",
      "9           W 31 St & 7 Ave         236030          34265      201765\n",
      "10    Lafayette St & E 8 St         285704          86551      199153\n",
      "11       E 47 St & Park Ave         210173          15810      194363\n",
      "12          W 33 St & 7 Ave         212412          36929      175483\n",
      "13       Broadway & E 14 St         254501          90045      164456\n",
      "14       E 32 St & Park Ave         198180          35409      162771\n",
      "15  Lexington Ave & E 24 St         204578          42624      161954\n",
      "16          W 18 St & 6 Ave         217836          57298      160538\n",
      "17       Broadway & W 41 St         187920          30835      157085\n",
      "18    West St & Chambers St         269834         114282      155552\n",
      "19          W 27 St & 7 Ave         188341          33002      155339\n"
     ]
    }
   ],
   "source": [
    "# Define your query — example: Citbike Trip dataset\n",
    "query = \"\"\"\n",
    "WITH day_type_counts AS (\n",
    "  SELECT\n",
    "    start_station_name,\n",
    "    CASE\n",
    "      WHEN EXTRACT(DAYOFWEEK FROM starttime) IN (1, 7) THEN 'weekend'\n",
    "      ELSE 'weekday'\n",
    "    END AS day_type,\n",
    "    COUNT(*) AS trip_count\n",
    "  FROM `bigquery-public-data.new_york_citibike.citibike_trips`\n",
    "  WHERE start_station_name IS NOT NULL\n",
    "  GROUP BY start_station_name, day_type\n",
    "),\n",
    "\n",
    "pivoted AS (\n",
    "  SELECT\n",
    "    start_station_name,\n",
    "    SUM(CASE WHEN day_type = 'weekday' THEN trip_count ELSE 0 END) AS weekday_trips,\n",
    "    SUM(CASE WHEN day_type = 'weekend' THEN trip_count ELSE 0 END) AS weekend_trips\n",
    "  FROM day_type_counts\n",
    "  GROUP BY start_station_name\n",
    ")\n",
    "\n",
    "SELECT\n",
    "  start_station_name,\n",
    "  weekday_trips,\n",
    "  weekend_trips,\n",
    "  ABS(weekday_trips - weekend_trips) AS usage_diff\n",
    "FROM pivoted\n",
    "ORDER BY usage_diff DESC\n",
    "LIMIT 20\n",
    "\"\"\"\n",
    "\n",
    "# Run the query\n",
    "day_query_job = client.query(query)\n",
    "\n",
    "# Convert to pandas DataFrame\n",
    "results = day_query_job.to_dataframe()\n",
    "print(results)"
   ]
  },
  {
   "cell_type": "markdown",
   "id": "74d1a1c5-cb16-46e0-8737-f0454321ba21",
   "metadata": {},
   "source": [
    "Classify each station-day into “Low”, “Medium”, or “High” demand based on trip volume percentiles. Then, analyze demand category distribution by borough."
   ]
  },
  {
   "cell_type": "code",
   "execution_count": 21,
   "id": "72cfaa27-22c2-4b1b-bc76-1d19c0136483",
   "metadata": {},
   "outputs": [
    {
     "name": "stderr",
     "output_type": "stream",
     "text": [
      "/Library/Frameworks/Python.framework/Versions/3.11/lib/python3.11/site-packages/google/cloud/bigquery/table.py:1965: UserWarning: BigQuery Storage module not found, fetch data with the REST endpoint instead.\n",
      "  warnings.warn(\n"
     ]
    },
    {
     "name": "stdout",
     "output_type": "stream",
     "text": [
      "       start_station_name   trip_date  trip_count demand_category\n",
      "0        1 Ave & E 110 St  2017-09-12           3             Low\n",
      "1        1 Ave & E 110 St  2017-09-13           6             Low\n",
      "2        1 Ave & E 110 St  2017-09-14           9             Low\n",
      "3        1 Ave & E 110 St  2017-09-15          13             Low\n",
      "4        1 Ave & E 110 St  2017-09-16          12             Low\n",
      "...                   ...         ...         ...             ...\n",
      "731656   York St & Jay St  2018-02-23          62          Medium\n",
      "731657   York St & Jay St  2018-02-24          41          Medium\n",
      "731658   York St & Jay St  2018-02-25          26             Low\n",
      "731659   York St & Jay St  2018-02-26          88            High\n",
      "731660   York St & Jay St  2018-02-27           2             Low\n",
      "\n",
      "[731661 rows x 4 columns]\n"
     ]
    }
   ],
   "source": [
    "# Define your query — example: Citbike Trip dataset\n",
    "query = \"\"\"\n",
    "\n",
    "WITH trips_per_station_day AS (\n",
    "  SELECT\n",
    "    start_station_name,\n",
    "    DATE(starttime) AS trip_date,\n",
    "    COUNT(*) AS trip_count\n",
    "  FROM `bigquery-public-data.new_york_citibike.citibike_trips`\n",
    "  WHERE end_station_name <> ''\n",
    "  GROUP BY start_station_name, trip_date\n",
    "),\n",
    "\n",
    "percentiles AS (\n",
    "  SELECT\n",
    "    PERCENTILE_CONT(trip_count, 0.33) OVER() AS p33,\n",
    "    PERCENTILE_CONT(trip_count, 0.66) OVER() AS p66\n",
    "  FROM trips_per_station_day\n",
    "  LIMIT 1\n",
    "),\n",
    "\n",
    "demand_classification AS (\n",
    "  SELECT\n",
    "    t.start_station_name,\n",
    "    t.trip_date,\n",
    "    t.trip_count,\n",
    "    CASE\n",
    "      WHEN t.trip_count <= p.p33 THEN 'Low'\n",
    "      WHEN t.trip_count <= p.p66 THEN 'Medium'\n",
    "      ELSE 'High'\n",
    "    END AS demand_category\n",
    "  FROM trips_per_station_day t\n",
    "  CROSS JOIN percentiles p\n",
    ")\n",
    "\n",
    "SELECT\n",
    "  *\n",
    "FROM\n",
    "  demand_classification\n",
    "ORDER BY\n",
    "  start_station_name,\n",
    "  trip_date;\n",
    "\n",
    "\n",
    "\n",
    "\n",
    "\n",
    "\"\"\"\n",
    "\n",
    "# Run the query\n",
    "demand_query_job = client.query(query)\n",
    "\n",
    "# Convert to pandas DataFrame\n",
    "results = demand_query_job.to_dataframe()\n",
    "\n",
    "print(results)\n"
   ]
  },
  {
   "cell_type": "code",
   "execution_count": 73,
   "id": "4fadee73-13fa-48b3-90d6-cef03538ebd1",
   "metadata": {},
   "outputs": [
    {
     "name": "stderr",
     "output_type": "stream",
     "text": [
      "/Library/Frameworks/Python.framework/Versions/3.11/lib/python3.11/site-packages/google/cloud/bigquery/table.py:1965: UserWarning: BigQuery Storage module not found, fetch data with the REST endpoint instead.\n",
      "  warnings.warn(\n"
     ]
    },
    {
     "data": {
      "text/html": [
       "<div>\n",
       "<style scoped>\n",
       "    .dataframe tbody tr th:only-of-type {\n",
       "        vertical-align: middle;\n",
       "    }\n",
       "\n",
       "    .dataframe tbody tr th {\n",
       "        vertical-align: top;\n",
       "    }\n",
       "\n",
       "    .dataframe thead th {\n",
       "        text-align: right;\n",
       "    }\n",
       "</style>\n",
       "<table border=\"1\" class=\"dataframe\">\n",
       "  <thead>\n",
       "    <tr style=\"text-align: right;\">\n",
       "      <th></th>\n",
       "      <th>boro</th>\n",
       "      <th>demand_category</th>\n",
       "      <th>station_day_count</th>\n",
       "      <th>pct_within_boro</th>\n",
       "    </tr>\n",
       "  </thead>\n",
       "  <tbody>\n",
       "    <tr>\n",
       "      <th>0</th>\n",
       "      <td>BK</td>\n",
       "      <td>High</td>\n",
       "      <td>8479</td>\n",
       "      <td>4.56</td>\n",
       "    </tr>\n",
       "    <tr>\n",
       "      <th>1</th>\n",
       "      <td>BK</td>\n",
       "      <td>Low</td>\n",
       "      <td>114327</td>\n",
       "      <td>61.48</td>\n",
       "    </tr>\n",
       "    <tr>\n",
       "      <th>2</th>\n",
       "      <td>BK</td>\n",
       "      <td>Medium</td>\n",
       "      <td>63154</td>\n",
       "      <td>33.96</td>\n",
       "    </tr>\n",
       "    <tr>\n",
       "      <th>3</th>\n",
       "      <td>MN</td>\n",
       "      <td>High</td>\n",
       "      <td>182957</td>\n",
       "      <td>50.60</td>\n",
       "    </tr>\n",
       "    <tr>\n",
       "      <th>4</th>\n",
       "      <td>MN</td>\n",
       "      <td>Low</td>\n",
       "      <td>57061</td>\n",
       "      <td>15.78</td>\n",
       "    </tr>\n",
       "    <tr>\n",
       "      <th>5</th>\n",
       "      <td>MN</td>\n",
       "      <td>Medium</td>\n",
       "      <td>121545</td>\n",
       "      <td>33.62</td>\n",
       "    </tr>\n",
       "    <tr>\n",
       "      <th>6</th>\n",
       "      <td>QN</td>\n",
       "      <td>High</td>\n",
       "      <td>452</td>\n",
       "      <td>2.03</td>\n",
       "    </tr>\n",
       "    <tr>\n",
       "      <th>7</th>\n",
       "      <td>QN</td>\n",
       "      <td>Low</td>\n",
       "      <td>18767</td>\n",
       "      <td>84.29</td>\n",
       "    </tr>\n",
       "    <tr>\n",
       "      <th>8</th>\n",
       "      <td>QN</td>\n",
       "      <td>Medium</td>\n",
       "      <td>3045</td>\n",
       "      <td>13.68</td>\n",
       "    </tr>\n",
       "  </tbody>\n",
       "</table>\n",
       "</div>"
      ],
      "text/plain": [
       "  boro demand_category  station_day_count  pct_within_boro\n",
       "0   BK            High               8479             4.56\n",
       "1   BK             Low             114327            61.48\n",
       "2   BK          Medium              63154            33.96\n",
       "3   MN            High             182957            50.60\n",
       "4   MN             Low              57061            15.78\n",
       "5   MN          Medium             121545            33.62\n",
       "6   QN            High                452             2.03\n",
       "7   QN             Low              18767            84.29\n",
       "8   QN          Medium               3045            13.68"
      ]
     },
     "metadata": {},
     "output_type": "display_data"
    },
    {
     "name": "stdout",
     "output_type": "stream",
     "text": [
      "Missing borough label for 0.00% of station-days\n"
     ]
    }
   ],
   "source": [
    "\n",
    "\n",
    "# 1) SQL with station_id included and no premature aggregation\n",
    "query = \"\"\"\n",
    "-- 1) bring station_id into every trip row (fast clustered join)\n",
    "WITH trips AS (\n",
    "  SELECT\n",
    "    t.start_station_id AS station_id,                 -- already STRING in the BQ table\n",
    "    DATE(t.starttime) AS trip_date\n",
    "  FROM `bigquery-public-data.new_york_citibike.citibike_trips`   t\n",
    "  JOIN `bigquery-public-data.new_york_citibike.citibike_stations` s\n",
    "    ON t.start_station_name = s.name\n",
    "  WHERE t.start_station_name IS NOT NULL      -- defensive\n",
    "),\n",
    "\n",
    "-- 2) daily trip counts per station\n",
    "daily AS (\n",
    "  SELECT\n",
    "    station_id,\n",
    "    trip_date,\n",
    "    COUNT(*) AS trip_count\n",
    "  FROM trips\n",
    "  GROUP BY station_id, trip_date\n",
    "),\n",
    "\n",
    "-- 3) global tercile cut-offs\n",
    "cut AS (\n",
    "  SELECT\n",
    "    APPROX_QUANTILES(trip_count, 100)[OFFSET(33)] AS p33,\n",
    "    APPROX_QUANTILES(trip_count, 100)[OFFSET(66)] AS p66\n",
    "  FROM daily\n",
    ")\n",
    "\n",
    "-- 4) tag every station-day\n",
    "SELECT\n",
    "  station_id,\n",
    "  trip_date,\n",
    "  CASE\n",
    "    WHEN trip_count <= c.p33 THEN 'Low'\n",
    "    WHEN trip_count <= c.p66 THEN 'Medium'\n",
    "    ELSE 'High'\n",
    "  END AS demand_category\n",
    "FROM daily d\n",
    "CROSS JOIN cut c;\n",
    "\"\"\"\n",
    "\n",
    "\n",
    "# 2) Pull into a DataFrame\n",
    "results = client.query(query).result().to_dataframe()   # station_id is STRING\n",
    "\n",
    "# 3) Read the TSV map\n",
    "tsv_path = \"citibike-stations-data-summary.tsv\"   # <- edit\n",
    "\n",
    "stations_boro = (\n",
    "    pd.read_csv(tsv_path, sep=\"\\t\", dtype={'station_id': int})\n",
    "      .loc[:, ['station_id', 'boro']]      # keep only what we need\n",
    "      .drop_duplicates()\n",
    ")\n",
    "\n",
    "\n",
    "# 4) Merge & compute distribution by boro\n",
    "# guarantee both columns are the same dtype\n",
    "results['station_id'] = results['station_id'].astype(int)\n",
    "\n",
    "merged = results.merge(stations_boro, on='station_id', how='left')\n",
    "\n",
    "distribution = (\n",
    "    merged\n",
    "      .groupby(['boro', 'demand_category'], dropna=False)\n",
    "      .size()\n",
    "      .reset_index(name='station_day_count')\n",
    "      .assign(\n",
    "          pct_within_boro=lambda d:\n",
    "              (100 * d.station_day_count /\n",
    "               d.groupby('boro').station_day_count.transform('sum')).round(2)\n",
    "      )\n",
    "      .sort_values(['boro', 'demand_category'])\n",
    ")\n",
    "\n",
    "display(distribution.head(10))\n",
    "\n",
    "# How many station-days still lack a borough after the merge?\n",
    "missing_pct = merged['boro'].isna().mean() * 100\n",
    "print(f\"Missing borough label for {missing_pct:.2f}% of station-days\")\n",
    "\n",
    "\n"
   ]
  },
  {
   "cell_type": "markdown",
   "id": "c10f87a3-2194-433e-9922-dd8542b6a40a",
   "metadata": {},
   "source": [
    "On high-volume days (>90th percentile), do users ride longer or shorter trips? Does this\n",
    "differ by rider type?"
   ]
  },
  {
   "cell_type": "code",
   "execution_count": 29,
   "id": "c29311df-dab4-49c0-8039-fdb7fd95ced4",
   "metadata": {},
   "outputs": [
    {
     "name": "stdout",
     "output_type": "stream",
     "text": [
      "  volume_label    usertype  avg_duration_mins  total_trips\n",
      "0        Other    Customer              33.85      5026543\n",
      "1        Other  Subscriber              13.30     37677570\n",
      "2  High-Volume    Customer              44.01      1164606\n",
      "3  High-Volume  Subscriber              13.99      9240002\n"
     ]
    }
   ],
   "source": [
    "# Define your query — example: Citbike Trip dataset\n",
    "query = \"\"\"\n",
    "-- 1) Compute daily trip counts\n",
    "WITH daily_counts AS (\n",
    "  SELECT\n",
    "    DATE(starttime)        AS trip_date,\n",
    "    COUNT(*)               AS trips_per_day\n",
    "  FROM\n",
    "    `bigquery-public-data.new_york_citibike.citibike_trips`\n",
    "  GROUP BY\n",
    "    trip_date\n",
    "),\n",
    "\n",
    "-- 2) Pull out the 90th percentile threshold\n",
    "p90 AS (\n",
    "  SELECT\n",
    "    APPROX_QUANTILES(trips_per_day, 100)[OFFSET(90)] AS pct90\n",
    "  FROM\n",
    "    daily_counts\n",
    "),\n",
    "\n",
    "-- 3) Label days High-Volume vs Other\n",
    "day_labels AS (\n",
    "  SELECT\n",
    "    dc.*,\n",
    "    IF(dc.trips_per_day > p.pct90, 'High-Volume', 'Other') AS volume_label\n",
    "  FROM\n",
    "    daily_counts dc\n",
    "  CROSS JOIN\n",
    "    p90 p\n",
    "),\n",
    "\n",
    "-- 4) Join back to all trips, carry along the label\n",
    "trips_with_label AS (\n",
    "  SELECT\n",
    "    t.tripduration,\n",
    "    t.usertype,\n",
    "    dl.volume_label\n",
    "  FROM\n",
    "    `bigquery-public-data.new_york_citibike.citibike_trips` t\n",
    "  JOIN\n",
    "    day_labels dl\n",
    "  ON\n",
    "    DATE(t.starttime) = dl.trip_date\n",
    ")\n",
    "\n",
    "-- 5) Compare avg tripduration by day‐type and usertype\n",
    "SELECT\n",
    "  volume_label,\n",
    "  usertype,\n",
    "  ROUND(AVG(tripduration)/60, 2) AS avg_duration_mins,\n",
    "  COUNT(*)                 AS total_trips\n",
    "FROM\n",
    "  trips_with_label\n",
    "GROUP BY\n",
    "  volume_label,\n",
    "  usertype\n",
    "ORDER BY\n",
    "  volume_label DESC,\n",
    "  usertype;\n",
    "\n",
    "\n",
    "\n",
    "\"\"\"\n",
    "\n",
    "# Run the query\n",
    "duration_job = client.query(query)\n",
    "\n",
    "# Convert to pandas DataFrame\n",
    "results = duration_job.to_dataframe()\n",
    "print(results)"
   ]
  },
  {
   "cell_type": "markdown",
   "id": "3c891e88-6bf5-4176-b07e-87bb8bbc917e",
   "metadata": {},
   "source": [
    "When are trips most frequent (by hour, day, or month)?"
   ]
  },
  {
   "cell_type": "code",
   "execution_count": 30,
   "id": "dbc25d22-03fa-441e-a6a6-aad0f7fc4d7a",
   "metadata": {},
   "outputs": [],
   "source": [
    "# Define your query — example: Citbike Trip dataset\n",
    "hour_query = \"\"\"\n",
    "SELECT\n",
    "  EXTRACT(HOUR FROM starttime) AS hour_of_day,\n",
    "  COUNT(*)                    AS trip_count\n",
    "FROM\n",
    "  `bigquery-public-data.new_york_citibike.citibike_trips`\n",
    "GROUP BY\n",
    "  hour_of_day\n",
    "ORDER BY\n",
    "  trip_count DESC\n",
    "LIMIT 5;\n",
    "\n",
    "\"\"\"\n",
    "\n",
    "dow_query = \"\"\"\n",
    "SELECT\n",
    "  FORMAT_TIMESTAMP('%A', starttime) AS weekday,\n",
    "  COUNT(*)                          AS trip_count\n",
    "FROM\n",
    "  `bigquery-public-data.new_york_citibike.citibike_trips`\n",
    "GROUP BY\n",
    "  weekday\n",
    "ORDER BY\n",
    "  trip_count DESC;\n",
    "\n",
    "\"\"\"\n",
    "\n",
    "month_query = \"\"\"\n",
    "SELECT\n",
    "  EXTRACT(MONTH FROM starttime) AS month,\n",
    "  COUNT(*)                     AS trip_count\n",
    "FROM\n",
    "  `bigquery-public-data.new_york_citibike.citibike_trips`\n",
    "GROUP BY\n",
    "  month\n",
    "ORDER BY\n",
    "  trip_count DESC;\n",
    "\n",
    "\"\"\"\n",
    "\n",
    "# Run the query\n",
    "hour_query_job = client.query(hour_query)\n",
    "dow_query_job = client.query(dow_query)\n",
    "month_query_job = client.query(month_query)\n"
   ]
  },
  {
   "cell_type": "code",
   "execution_count": 31,
   "id": "e76008c0-4d3a-414e-9cb8-85766540617a",
   "metadata": {},
   "outputs": [
    {
     "name": "stderr",
     "output_type": "stream",
     "text": [
      "/Library/Frameworks/Python.framework/Versions/3.11/lib/python3.11/site-packages/google/cloud/bigquery/table.py:1965: UserWarning: BigQuery Storage module not found, fetch data with the REST endpoint instead.\n",
      "  warnings.warn(\n"
     ]
    },
    {
     "name": "stdout",
     "output_type": "stream",
     "text": [
      "   hour_of_day  trip_count\n",
      "0         <NA>     5828994\n",
      "1           17     5232747\n",
      "2           18     5024723\n",
      "3            8     4161676\n",
      "4           16     3798414\n"
     ]
    }
   ],
   "source": [
    "hour_results = hour_query_job.to_dataframe()\n",
    "print(hour_results)"
   ]
  },
  {
   "cell_type": "code",
   "execution_count": 32,
   "id": "bf0d296b-c1f9-45ce-9a1a-28a0cdf6b0ba",
   "metadata": {},
   "outputs": [
    {
     "name": "stderr",
     "output_type": "stream",
     "text": [
      "/Library/Frameworks/Python.framework/Versions/3.11/lib/python3.11/site-packages/google/cloud/bigquery/table.py:1965: UserWarning: BigQuery Storage module not found, fetch data with the REST endpoint instead.\n",
      "  warnings.warn(\n"
     ]
    },
    {
     "name": "stdout",
     "output_type": "stream",
     "text": [
      "     weekday  trip_count\n",
      "0  Wednesday     8377153\n",
      "1   Thursday     8255421\n",
      "2    Tuesday     8161606\n",
      "3     Friday     7872756\n",
      "4     Monday     7658271\n",
      "5   Saturday     6540825\n",
      "6     Sunday     6242689\n",
      "7       None     5828994\n"
     ]
    }
   ],
   "source": [
    "dow_results = dow_query_job.to_dataframe()\n",
    "print(dow_results)"
   ]
  },
  {
   "cell_type": "code",
   "execution_count": 33,
   "id": "3650984e-4bb1-4be9-89e6-dd604020fcb2",
   "metadata": {},
   "outputs": [
    {
     "name": "stderr",
     "output_type": "stream",
     "text": [
      "/Library/Frameworks/Python.framework/Versions/3.11/lib/python3.11/site-packages/google/cloud/bigquery/table.py:1965: UserWarning: BigQuery Storage module not found, fetch data with the REST endpoint instead.\n",
      "  warnings.warn(\n"
     ]
    },
    {
     "name": "stdout",
     "output_type": "stream",
     "text": [
      "    month  trip_count\n",
      "0       9     6804899\n",
      "1       8     6518652\n",
      "2       5     6388361\n",
      "3       7     6013643\n",
      "4    <NA>     5828994\n",
      "5       6     5070011\n",
      "6      10     4976292\n",
      "7       4     4959266\n",
      "8      11     3522856\n",
      "9       3     2677536\n",
      "10     12     2537127\n",
      "11      2     1825654\n",
      "12      1     1814424\n"
     ]
    }
   ],
   "source": [
    "month_results = month_query_job.to_dataframe()\n",
    "print(month_results)"
   ]
  },
  {
   "cell_type": "code",
   "execution_count": null,
   "id": "8b83092b-699b-4062-bdf9-0b45c23bb153",
   "metadata": {},
   "outputs": [],
   "source": [
    "Top 10 most popular stations (simple aggregation)"
   ]
  },
  {
   "cell_type": "code",
   "execution_count": 34,
   "id": "21edf115-f30b-40aa-904e-153aac2a6491",
   "metadata": {},
   "outputs": [
    {
     "name": "stdout",
     "output_type": "stream",
     "text": [
      "                 station  total_trips\n",
      "0                            11657988\n",
      "1     E 17 St & Broadway       867794\n",
      "2  Pershing Square North       858008\n",
      "3        W 21 St & 6 Ave       811777\n",
      "4  West St & Chambers St       783149\n",
      "5        8 Ave & W 31 St       766860\n",
      "6     Broadway & E 22 St       745048\n",
      "7  Lafayette St & E 8 St       744934\n",
      "8     Broadway & E 14 St       688579\n",
      "9        8 Ave & W 33 St       639039\n"
     ]
    },
    {
     "name": "stderr",
     "output_type": "stream",
     "text": [
      "/Library/Frameworks/Python.framework/Versions/3.11/lib/python3.11/site-packages/google/cloud/bigquery/table.py:1965: UserWarning: BigQuery Storage module not found, fetch data with the REST endpoint instead.\n",
      "  warnings.warn(\n"
     ]
    }
   ],
   "source": [
    "# Define your query — example: Citbike Trip dataset\n",
    "query = \"\"\"\n",
    "WITH start_ct AS (\n",
    "  SELECT start_station_name AS station, COUNT(*) AS cnt\n",
    "  FROM `bigquery-public-data.new_york_citibike.citibike_trips`\n",
    "  GROUP BY start_station_name\n",
    "),\n",
    "end_ct AS (\n",
    "  SELECT end_station_name   AS station, COUNT(*) AS cnt\n",
    "  FROM `bigquery-public-data.new_york_citibike.citibike_trips`\n",
    "  GROUP BY end_station_name\n",
    ")\n",
    "SELECT\n",
    "  station,\n",
    "  SUM(cnt) AS total_trips\n",
    "FROM (\n",
    "  SELECT * FROM start_ct\n",
    "  UNION ALL\n",
    "  SELECT * FROM end_ct\n",
    ")\n",
    "GROUP BY\n",
    "  station\n",
    "ORDER BY\n",
    "  total_trips DESC\n",
    "LIMIT\n",
    "  10;\n",
    "\n",
    "\"\"\"\n",
    "\n",
    "# Run the query\n",
    "station_query_job = client.query(query)\n",
    "\n",
    "# Convert to pandas DataFrame\n",
    "results = station_query_job.to_dataframe()\n",
    "print(results)"
   ]
  },
  {
   "cell_type": "markdown",
   "id": "298cafc8-437b-4ce0-b6d1-cd71f5377fbf",
   "metadata": {},
   "source": [
    "Trip frequency by hour/day/month"
   ]
  },
  {
   "cell_type": "code",
   "execution_count": 38,
   "id": "ac74fafc-fda2-4fc2-8a88-a397f82dc7a0",
   "metadata": {},
   "outputs": [
    {
     "name": "stderr",
     "output_type": "stream",
     "text": [
      "/Library/Frameworks/Python.framework/Versions/3.11/lib/python3.11/site-packages/google/cloud/bigquery/table.py:1965: UserWarning: BigQuery Storage module not found, fetch data with the REST endpoint instead.\n",
      "  warnings.warn(\n"
     ]
    },
    {
     "name": "stdout",
     "output_type": "stream",
     "text": [
      "    hour_of_day  trip_count\n",
      "0          <NA>     5828994\n",
      "1             0      493474\n",
      "2             1      274130\n",
      "3             2      160739\n",
      "4             3       99089\n",
      "5             4       94279\n",
      "6             5      297710\n",
      "7             6     1121851\n",
      "8             7     2352084\n",
      "9             8     4161676\n",
      "10            9     3346692\n",
      "11           10     2339094\n",
      "12           11     2470146\n",
      "13           12     2871885\n",
      "14           13     3012169\n",
      "15           14     3103103\n",
      "16           15     3257591\n",
      "17           16     3798414\n",
      "18           17     5232747\n",
      "19           18     5024723\n",
      "20           19     3517025\n",
      "21           20     2353727\n",
      "22           21     1647701\n",
      "23           22     1242153\n",
      "24           23      836519\n"
     ]
    }
   ],
   "source": [
    "# Define your query — example: Citbike Trip dataset\n",
    "f_hour_query = \"\"\"\n",
    "SELECT\n",
    "  EXTRACT(HOUR   FROM starttime) AS hour_of_day,\n",
    "  COUNT(*)                         AS trip_count\n",
    "FROM\n",
    "  `bigquery-public-data.new_york_citibike.citibike_trips`\n",
    "GROUP BY\n",
    "  hour_of_day\n",
    "ORDER BY\n",
    "  hour_of_day;\n",
    "\n",
    "\n",
    "\"\"\"\n",
    "\n",
    "# Run the query\n",
    "f_hour_query_job = client.query(f_hour_query)\n",
    "\n",
    "# Convert to pandas DataFrame\n",
    "results = f_hour_query_job.to_dataframe()\n",
    "print(results)"
   ]
  },
  {
   "cell_type": "code",
   "execution_count": 41,
   "id": "34138a04-9455-474f-ad79-43e29d1c9e1f",
   "metadata": {},
   "outputs": [
    {
     "name": "stderr",
     "output_type": "stream",
     "text": [
      "/Library/Frameworks/Python.framework/Versions/3.11/lib/python3.11/site-packages/google/cloud/bigquery/table.py:1965: UserWarning: BigQuery Storage module not found, fetch data with the REST endpoint instead.\n",
      "  warnings.warn(\n"
     ]
    },
    {
     "name": "stdout",
     "output_type": "stream",
     "text": [
      "     weekday  trip_count\n",
      "0  Wednesday     8377153\n",
      "1   Thursday     8255421\n",
      "2    Tuesday     8161606\n",
      "3     Friday     7872756\n",
      "4     Monday     7658271\n",
      "5   Saturday     6540825\n",
      "6     Sunday     6242689\n",
      "7       None     5828994\n"
     ]
    }
   ],
   "source": [
    "# Define your query — example: Citbike Trip dataset\n",
    "f_dow_query = \"\"\"\n",
    "SELECT\n",
    "  FORMAT_TIMESTAMP('%A', starttime) AS weekday,\n",
    "  COUNT(*)                          AS trip_count\n",
    "FROM\n",
    "  `bigquery-public-data.new_york_citibike.citibike_trips`\n",
    "GROUP BY\n",
    "  weekday\n",
    "ORDER BY\n",
    "2 DESC\n",
    "\n",
    "\"\"\"\n",
    "\n",
    "# Run the query\n",
    "f_dow_query_job = client.query(f_dow_query)\n",
    "\n",
    "# Convert to pandas DataFrame\n",
    "results = f_dow_query_job.to_dataframe()\n",
    "print(results)"
   ]
  },
  {
   "cell_type": "code",
   "execution_count": 43,
   "id": "996222e8-3945-4857-bd8f-6356f2df991e",
   "metadata": {},
   "outputs": [
    {
     "name": "stdout",
     "output_type": "stream",
     "text": [
      "    month  trip_count\n",
      "0    <NA>     5828994\n",
      "1       1     1814424\n",
      "2       2     1825654\n",
      "3       3     2677536\n",
      "4       4     4959266\n",
      "5       5     6388361\n",
      "6       6     5070011\n",
      "7       7     6013643\n",
      "8       8     6518652\n",
      "9       9     6804899\n",
      "10     10     4976292\n",
      "11     11     3522856\n",
      "12     12     2537127\n"
     ]
    },
    {
     "name": "stderr",
     "output_type": "stream",
     "text": [
      "/Library/Frameworks/Python.framework/Versions/3.11/lib/python3.11/site-packages/google/cloud/bigquery/table.py:1965: UserWarning: BigQuery Storage module not found, fetch data with the REST endpoint instead.\n",
      "  warnings.warn(\n"
     ]
    }
   ],
   "source": [
    "# Define your query — example: Citbike Trip dataset\n",
    "f_month_query = \"\"\"\n",
    "SELECT\n",
    "  EXTRACT(MONTH FROM starttime) AS month,\n",
    "  COUNT(*)                     AS trip_count\n",
    "FROM\n",
    "  `bigquery-public-data.new_york_citibike.citibike_trips`\n",
    "GROUP BY\n",
    "  month\n",
    "ORDER BY\n",
    "  month\n",
    "\n",
    "\"\"\"\n",
    "\n",
    "# Run the query\n",
    "f_month_query_job = client.query(f_month_query)\n",
    "\n",
    "# Convert to pandas DataFrame\n",
    "results = f_month_query_job.to_dataframe()\n",
    "print(results)"
   ]
  },
  {
   "cell_type": "markdown",
   "id": "a82f0584-6ceb-42f7-9445-243d9c27e1d8",
   "metadata": {},
   "source": [
    "How does usage differ between members and casual riders?"
   ]
  },
  {
   "cell_type": "code",
   "execution_count": 45,
   "id": "dbef5074-c1f7-4920-97e2-07a908ace633",
   "metadata": {},
   "outputs": [
    {
     "name": "stderr",
     "output_type": "stream",
     "text": [
      "/Library/Frameworks/Python.framework/Versions/3.11/lib/python3.11/site-packages/google/cloud/bigquery/table.py:1965: UserWarning: BigQuery Storage module not found, fetch data with the REST endpoint instead.\n",
      "  warnings.warn(\n"
     ]
    },
    {
     "name": "stdout",
     "output_type": "stream",
     "text": [
      "     usertype  trip_count  avg_duration_mins\n",
      "0  Subscriber    46917572              13.44\n",
      "1    Customer     6191149              35.76\n",
      "2                 5828994                NaN\n"
     ]
    }
   ],
   "source": [
    "# Define your query — example: Citbike Trip dataset\n",
    "test_query = \"\"\"\n",
    "SELECT\n",
    "  usertype,\n",
    "  COUNT(*)                  AS trip_count,\n",
    "  ROUND(AVG(tripduration)/60,2) AS avg_duration_mins\n",
    "FROM\n",
    "  `bigquery-public-data.new_york_citibike.citibike_trips`\n",
    "GROUP BY\n",
    "  usertype;\n",
    "\n",
    "\"\"\"\n",
    "\n",
    "# Run the query\n",
    "test_query_job = client.query(test_query)\n",
    "\n",
    "# Convert to pandas DataFrame\n",
    "results = test_query_job.to_dataframe()\n",
    "print(results)"
   ]
  },
  {
   "cell_type": "code",
   "execution_count": 46,
   "id": "93adb836-7e4c-47c0-8049-bedae3e936a0",
   "metadata": {},
   "outputs": [
    {
     "name": "stderr",
     "output_type": "stream",
     "text": [
      "/Library/Frameworks/Python.framework/Versions/3.11/lib/python3.11/site-packages/google/cloud/bigquery/table.py:1965: UserWarning: BigQuery Storage module not found, fetch data with the REST endpoint instead.\n",
      "  warnings.warn(\n"
     ]
    },
    {
     "name": "stdout",
     "output_type": "stream",
     "text": [
      "      usertype  hour    trips\n",
      "0               <NA>  5828994\n",
      "1     Customer     0    61892\n",
      "2     Customer     1    37299\n",
      "3     Customer     2    23218\n",
      "4     Customer     3    14222\n",
      "5     Customer     4     9755\n",
      "6     Customer     5     8600\n",
      "7     Customer     6    22402\n",
      "8     Customer     7    54941\n",
      "9     Customer     8   126230\n",
      "10    Customer     9   210230\n",
      "11    Customer    10   327418\n",
      "12    Customer    11   446716\n",
      "13    Customer    12   518746\n",
      "14    Customer    13   556523\n",
      "15    Customer    14   591318\n",
      "16    Customer    15   608240\n",
      "17    Customer    16   594136\n",
      "18    Customer    17   549561\n",
      "19    Customer    18   458646\n",
      "20    Customer    19   338112\n",
      "21    Customer    20   232001\n",
      "22    Customer    21   167923\n",
      "23    Customer    22   135391\n",
      "24    Customer    23    97629\n",
      "25  Subscriber     0   431582\n",
      "26  Subscriber     1   236831\n",
      "27  Subscriber     2   137521\n",
      "28  Subscriber     3    84867\n",
      "29  Subscriber     4    84524\n",
      "30  Subscriber     5   289110\n",
      "31  Subscriber     6  1099449\n",
      "32  Subscriber     7  2297143\n",
      "33  Subscriber     8  4035446\n",
      "34  Subscriber     9  3136462\n",
      "35  Subscriber    10  2011676\n",
      "36  Subscriber    11  2023430\n",
      "37  Subscriber    12  2353139\n",
      "38  Subscriber    13  2455646\n",
      "39  Subscriber    14  2511785\n",
      "40  Subscriber    15  2649351\n",
      "41  Subscriber    16  3204278\n",
      "42  Subscriber    17  4683186\n",
      "43  Subscriber    18  4566077\n",
      "44  Subscriber    19  3178913\n",
      "45  Subscriber    20  2121726\n",
      "46  Subscriber    21  1479778\n",
      "47  Subscriber    22  1106762\n",
      "48  Subscriber    23   738890\n"
     ]
    }
   ],
   "source": [
    "# Define your query — example: Citbike Trip dataset\n",
    "pattern_query = \"\"\"\n",
    "SELECT\n",
    "  usertype,\n",
    "  EXTRACT(HOUR FROM starttime) AS hour,\n",
    "  COUNT(*)                    AS trips\n",
    "FROM\n",
    "  `bigquery-public-data.new_york_citibike.citibike_trips`\n",
    "GROUP BY\n",
    "  usertype, hour\n",
    "ORDER BY\n",
    "  usertype, hour;\n",
    "\n",
    "\n",
    "\"\"\"\n",
    "\n",
    "# Run the query\n",
    "pattern_query_job = client.query(pattern_query)\n",
    "\n",
    "# Convert to pandas DataFrame\n",
    "results = pattern_query_job.to_dataframe()\n",
    "print(results)"
   ]
  },
  {
   "cell_type": "markdown",
   "id": "be3a78bf-3c06-47fe-9ce2-6740f0c4b762",
   "metadata": {},
   "source": [
    "Are trip durations meaningfully different across user segments or times?"
   ]
  },
  {
   "cell_type": "code",
   "execution_count": 48,
   "id": "30a8cda6-b792-4f74-8316-1674f967708e",
   "metadata": {},
   "outputs": [
    {
     "name": "stderr",
     "output_type": "stream",
     "text": [
      "/Library/Frameworks/Python.framework/Versions/3.11/lib/python3.11/site-packages/google/cloud/bigquery/table.py:1965: UserWarning: BigQuery Storage module not found, fetch data with the REST endpoint instead.\n",
      "  warnings.warn(\n"
     ]
    },
    {
     "name": "stdout",
     "output_type": "stream",
     "text": [
      "     usertype  avg_duration_mins     trips\n",
      "0  Subscriber              13.44  46917572\n",
      "1    Customer              35.76   6191149\n",
      "2                            NaN   5828994\n"
     ]
    }
   ],
   "source": [
    "# Define your query — example: Citbike Trip dataset\n",
    "avg_duration_query = \"\"\"\n",
    "SELECT\n",
    "  usertype,\n",
    "  ROUND(AVG(tripduration)/60, 2) AS avg_duration_mins,\n",
    "  COUNT(*)                     AS trips\n",
    "FROM\n",
    "  `bigquery-public-data.new_york_citibike.citibike_trips`\n",
    "GROUP BY\n",
    "  usertype;\n",
    "\n",
    "\"\"\"\n",
    "\n",
    "# Run the query\n",
    "avg_duration_query_job = client.query(avg_duration_query)\n",
    "\n",
    "# Convert to pandas DataFrame\n",
    "results = avg_duration_query_job.to_dataframe()\n",
    "print(results)"
   ]
  },
  {
   "cell_type": "code",
   "execution_count": 50,
   "id": "d7e17831-40ad-40bc-b717-ef4b4f920e14",
   "metadata": {},
   "outputs": [
    {
     "name": "stderr",
     "output_type": "stream",
     "text": [
      "/Library/Frameworks/Python.framework/Versions/3.11/lib/python3.11/site-packages/google/cloud/bigquery/table.py:1965: UserWarning: BigQuery Storage module not found, fetch data with the REST endpoint instead.\n",
      "  warnings.warn(\n"
     ]
    },
    {
     "name": "stdout",
     "output_type": "stream",
     "text": [
      "      weekday    usertype  avg_duration_mins    trips\n",
      "0        None                            NaN  5828994\n",
      "1      Friday    Customer              37.34   766364\n",
      "2      Friday  Subscriber              13.33  7106392\n",
      "3      Monday    Customer              34.75   732515\n",
      "4      Monday  Subscriber              13.18  6925756\n",
      "5    Saturday  Subscriber              14.42  5077299\n",
      "6    Saturday    Customer              35.30  1463526\n",
      "7      Sunday    Customer              34.98  1370737\n",
      "8      Sunday  Subscriber              14.29  4871952\n",
      "9    Thursday    Customer              36.87   638859\n",
      "10   Thursday  Subscriber              13.14  7616562\n",
      "11    Tuesday  Subscriber              13.09  7554246\n",
      "12    Tuesday    Customer              34.66   607360\n",
      "13  Wednesday  Subscriber              13.23  7765365\n",
      "14  Wednesday    Customer              37.77   611788\n"
     ]
    }
   ],
   "source": [
    "# Define your query — example: Citbike Trip dataset\n",
    "rt_dow_query = \"\"\"\n",
    "SELECT\n",
    "  FORMAT_TIMESTAMP('%A', starttime) AS weekday,\n",
    "  usertype,\n",
    "  ROUND(AVG(tripduration)/60, 2)     AS avg_duration_mins,\n",
    "  COUNT(*)                         AS trips\n",
    "FROM\n",
    "  `bigquery-public-data.new_york_citibike.citibike_trips`\n",
    "GROUP BY\n",
    "  weekday,\n",
    "  usertype\n",
    "ORDER BY\n",
    "1\n",
    "\n",
    "\"\"\"\n",
    "\n",
    "# Run the query\n",
    "rt_dow_query_job = client.query(rt_dow_query)\n",
    "\n",
    "# Convert to pandas DataFrame\n",
    "results = rt_dow_query_job.to_dataframe()\n",
    "print(results)"
   ]
  },
  {
   "cell_type": "markdown",
   "id": "13051af2-784c-49a3-bc70-5201c6b6a224",
   "metadata": {},
   "source": [
    "Which station pairs are most frequently used?"
   ]
  },
  {
   "cell_type": "code",
   "execution_count": 6,
   "id": "1810e882-23fd-4e02-be89-a9659b9914e8",
   "metadata": {},
   "outputs": [
    {
     "name": "stderr",
     "output_type": "stream",
     "text": [
      "/Library/Frameworks/Python.framework/Versions/3.11/lib/python3.11/site-packages/google/cloud/bigquery/table.py:1965: UserWarning: BigQuery Storage module not found, fetch data with the REST endpoint instead.\n",
      "  warnings.warn(\n"
     ]
    },
    {
     "data": {
      "image/png": "[encoded data removed]",
      "text/plain": [
       "<Figure size 1000x600 with 1 Axes>"
      ]
     },
     "metadata": {},
     "output_type": "display_data"
    }
   ],
   "source": [
    "import matplotlib.pyplot as plt\n",
    "\n",
    "# Define your query — example: Citbike Trip dataset\n",
    "query = \"\"\"\n",
    "SELECT\n",
    "  start_station_name,\n",
    "  end_station_name,\n",
    "  COUNT(*) AS trip_count\n",
    "FROM\n",
    "  `bigquery-public-data.new_york_citibike.citibike_trips`\n",
    "WHERE end_station_name <> ''\n",
    "GROUP BY\n",
    "  start_station_name,\n",
    "  end_station_name\n",
    "ORDER BY\n",
    "  trip_count DESC\n",
    "LIMIT\n",
    "  10;\n",
    "\n",
    "\"\"\"\n",
    "\n",
    "# Run the query\n",
    "pair_query_job = client.query(query)\n",
    "\n",
    "# Convert to pandas DataFrame\n",
    "results = pair_query_job.to_dataframe()\n",
    "\n",
    "# ── 1.  Prep a label for each pair ────────────────────────────\n",
    "results[\"pair\"] = results[\"start_station_name\"] + \" → \" + results[\"end_station_name\"]\n",
    "\n",
    "# Keep the pairs in descending order of trips for plotting\n",
    "results = results.sort_values(\"trip_count\", ascending=True)   # ascending so largest ends up on top in h‑bar\n",
    "\n",
    "# ── 2.  Plot ─────────────────────────────────────────────────\n",
    "plt.figure(figsize=(10, 6))\n",
    "plt.barh(results[\"pair\"], results[\"trip_count\"])\n",
    "plt.xlabel(\"Trips\")\n",
    "plt.title(\"Top 10 CitiBike Station‑to‑Station Flows\")\n",
    "plt.tight_layout()\n",
    "plt.show()"
   ]
  },
  {
   "cell_type": "code",
   "execution_count": 9,
   "id": "a4db0cc6-8684-49ec-96f9-6af818aada5b",
   "metadata": {},
   "outputs": [
    {
     "name": "stderr",
     "output_type": "stream",
     "text": [
      "/Library/Frameworks/Python.framework/Versions/3.11/lib/python3.11/site-packages/google/cloud/bigquery/table.py:1965: UserWarning: BigQuery Storage module not found, fetch data with the REST endpoint instead.\n",
      "  warnings.warn(\n"
     ]
    },
    {
     "data": {
      "image/png": "[encoded data removed]",
      "text/plain": [
       "<Figure size 1000x600 with 1 Axes>"
      ]
     },
     "metadata": {},
     "output_type": "display_data"
    }
   ],
   "source": [
    "import matplotlib.pyplot as plt\n",
    "import pandas as pd\n",
    "\n",
    "# Define your query — example: Citbike Trip dataset\n",
    "query = \"\"\"\n",
    "SELECT\n",
    "  start_station_name,\n",
    "  end_station_name,\n",
    "  usertype,\n",
    "  COUNT(*) AS trip_count\n",
    "FROM\n",
    "  `bigquery-public-data.new_york_citibike.citibike_trips`\n",
    "WHERE end_station_name <> ''\n",
    "GROUP BY\n",
    "  start_station_name,\n",
    "  end_station_name,\n",
    "  usertype\n",
    "ORDER BY\n",
    "  trip_count DESC\n",
    "LIMIT\n",
    "  10;\n",
    "\n",
    "\"\"\"\n",
    "\n",
    "# Run the query\n",
    "pair_query_job = client.query(query)\n",
    "\n",
    "# Convert to pandas DataFrame\n",
    "results = pair_query_job.to_dataframe()\n",
    "\n",
    "# ── 1.  Build a compact label for each station pair ────────────────\n",
    "results[\"pair\"] = results[\"start_station_name\"] + \" → \" + results[\"end_station_name\"]\n",
    "\n",
    "# ── 2.  Pivot so each user type gets its own column ────────────────\n",
    "pivot = (\n",
    "    results\n",
    "      .pivot_table(index=\"pair\", columns=\"usertype\", values=\"trip_count\", aggfunc=\"sum\")\n",
    "      .fillna(0)\n",
    ")\n",
    "\n",
    "# Sort by the total trips so the bars line up from smallest (bottom) to biggest (top)\n",
    "pivot = pivot.assign(total=pivot.sum(axis=1)).sort_values(\"total\", ascending=True)\n",
    "pivot = pivot.drop(columns=\"total\")   # we don’t need the helper column any more\n",
    "\n",
    "# ── 3.  Plot a stacked horizontal bar chart ────────────────────────\n",
    "pivot.plot(\n",
    "    kind=\"barh\",\n",
    "    stacked=True,\n",
    "    figsize=(10, 6),\n",
    ")\n",
    "\n",
    "plt.xlabel(\"Trips\")\n",
    "plt.title(\"Top 10 CitiBike Station‑to‑Station Flows (stacked by user type)\")\n",
    "plt.legend(title=\"User type\")\n",
    "plt.tight_layout()\n",
    "plt.show()"
   ]
  },
  {
   "cell_type": "code",
   "execution_count": 170,
   "id": "e97fa866-d345-4b92-b5b3-a170d975d6aa",
   "metadata": {},
   "outputs": [
    {
     "name": "stderr",
     "output_type": "stream",
     "text": [
      "/Library/Frameworks/Python.framework/Versions/3.11/lib/python3.11/site-packages/google/cloud/bigquery/table.py:1965: UserWarning: BigQuery Storage module not found, fetch data with the REST endpoint instead.\n",
      "  warnings.warn(\n"
     ]
    },
    {
     "name": "stdout",
     "output_type": "stream",
     "text": [
      "   station_id            station_name    usertype  avg_monthly_trips\n",
      "0        <NA>                                           5.828994e+06\n",
      "1         519   Pershing Square North  Subscriber       1.055746e+04\n",
      "2        3263  Cooper Square & E 7 St  Subscriber       7.751000e+03\n",
      "3         521         8 Ave & W 31 St  Subscriber       7.397970e+03\n",
      "4         497      E 17 St & Broadway  Subscriber       7.275547e+03\n"
     ]
    }
   ],
   "source": [
    "# Define your query — example: Citbike Trip dataset\n",
    "query = \"\"\"\n",
    "\n",
    "WITH monthly AS (\n",
    "  SELECT\n",
    "    start_station_id                 AS station_id,\n",
    "    start_station_name               AS station_name,\n",
    "    usertype,\n",
    "    DATE_TRUNC(DATE(starttime), MONTH) AS trip_month,\n",
    "    COUNT(*)                         AS monthly_trips\n",
    "  FROM `bigquery-public-data.new_york_citibike.citibike_trips`\n",
    "  GROUP BY station_id, station_name, usertype, trip_month\n",
    "),\n",
    "\n",
    "avg_monthly AS (\n",
    "  SELECT\n",
    "    station_id,\n",
    "    station_name,\n",
    "    usertype,\n",
    "    AVG(monthly_trips) AS avg_monthly_trips       -- ← average over all months\n",
    "  FROM monthly\n",
    "  GROUP BY station_id, station_name, usertype\n",
    "),\n",
    "\n",
    "ranked AS (\n",
    "  SELECT\n",
    "    *,\n",
    "    RANK() OVER (PARTITION BY station_id\n",
    "                 ORDER BY avg_monthly_trips DESC) AS rank_within_station\n",
    "  FROM avg_monthly\n",
    ")\n",
    "\n",
    "SELECT\n",
    "  station_id,\n",
    "  station_name,\n",
    "  usertype,\n",
    "  avg_monthly_trips\n",
    "FROM ranked\n",
    "WHERE rank_within_station = 1            -- keep the higher‑volume user type\n",
    "ORDER BY avg_monthly_trips DESC;\n",
    "\n",
    "\"\"\"\n",
    "\n",
    "# Run the query\n",
    "volume_query_job = client.query(query)\n",
    "\n",
    "# Convert to pandas DataFrame\n",
    "results = volume_query_job.to_dataframe()\n",
    "print(results.head())      # look at a few rows"
   ]
  },
  {
   "cell_type": "code",
   "execution_count": 181,
   "id": "b75f6421-2ff3-45c4-84e8-c5cdf5b1d061",
   "metadata": {},
   "outputs": [
    {
     "name": "stderr",
     "output_type": "stream",
     "text": [
      "/Library/Frameworks/Python.framework/Versions/3.11/lib/python3.11/site-packages/google/cloud/bigquery/table.py:1965: UserWarning: BigQuery Storage module not found, fetch data with the REST endpoint instead.\n",
      "  warnings.warn(\n",
      "/var/folders/nm/dc639mrx6s90bqg3vn0khw9c0000gn/T/ipykernel_85086/2667297260.py:67: UserWarning: Glyph 8239 (\\N{NARROW NO-BREAK SPACE}) missing from font(s) Arial.\n",
      "  plt.tight_layout()\n",
      "/Library/Frameworks/Python.framework/Versions/3.11/lib/python3.11/site-packages/IPython/core/pylabtools.py:170: UserWarning: Glyph 8239 (\\N{NARROW NO-BREAK SPACE}) missing from font(s) Arial.\n",
      "  fig.canvas.print_figure(bytes_io, **kw)\n"
     ]
    },
    {
     "data": {
      "image/png": "[encoded data removed]",
      "text/plain": [
       "<Figure size 900x600 with 1 Axes>"
      ]
     },
     "metadata": {},
     "output_type": "display_data"
    }
   ],
   "source": [
    "# Define your query — example: Citbike Trip dataset\n",
    "query = \"\"\"\n",
    "-- top_10_pairs_no_nulls.sql\n",
    "WITH pair_counts AS (\n",
    "  SELECT\n",
    "    start_station_name,\n",
    "    end_station_name,\n",
    "    usertype,\n",
    "    COUNT(*) AS trip_count\n",
    "  FROM `bigquery-public-data.new_york_citibike.citibike_trips`\n",
    "  WHERE\n",
    "        start_station_name IS NOT NULL\n",
    "    AND end_station_name   IS NOT NULL\n",
    "    AND TRIM(start_station_name) <> ''\n",
    "    AND TRIM(end_station_name)   <> ''\n",
    "  GROUP BY start_station_name, end_station_name, usertype\n",
    "),\n",
    "\n",
    "top_pairs AS (\n",
    "  SELECT\n",
    "    start_station_name,\n",
    "    end_station_name,\n",
    "    SUM(trip_count) AS total_trips\n",
    "  FROM pair_counts\n",
    "  GROUP BY start_station_name, end_station_name\n",
    "  ORDER BY total_trips DESC\n",
    "  LIMIT 10\n",
    ")\n",
    "\n",
    "SELECT\n",
    "  p.start_station_name,\n",
    "  p.end_station_name,\n",
    "  p.usertype,\n",
    "  p.trip_count\n",
    "FROM pair_counts p\n",
    "JOIN top_pairs t\n",
    "  USING (start_station_name, end_station_name);\n",
    "\n",
    "\"\"\"\n",
    "\n",
    "import seaborn as sns\n",
    "import matplotlib.pyplot as plt\n",
    "\n",
    "df  = client.query(query).to_dataframe()\n",
    "\n",
    "df['pair'] = df['start_station_name'] + ' → ' + df['end_station_name']\n",
    "plot_df = (\n",
    "    df.pivot(index='pair', columns='usertype', values='trip_count')\n",
    "      .fillna(0)\n",
    ")\n",
    "\n",
    "order = plot_df.sum(axis=1).sort_values().index\n",
    "plot_df = plot_df.loc[order]\n",
    "\n",
    "sns.set_theme(style=\"whitegrid\")\n",
    "ax = plot_df.plot(\n",
    "        kind='barh',\n",
    "        stacked=True,\n",
    "        figsize=(9,6),\n",
    "        width=0.7\n",
    ")\n",
    "\n",
    "ax.set_xlabel('Trip count')\n",
    "ax.set_ylabel('')\n",
    "ax.set_title('Top 10 Citi Bike station pairings\\nCustomer vs Subscriber volumes')\n",
    "ax.legend(title='Rider type', bbox_to_anchor=(1.05, 1), loc='upper left')\n",
    "plt.tight_layout()\n",
    "plt.show()"
   ]
  },
  {
   "cell_type": "code",
   "execution_count": 11,
   "id": "1c645db2-bc4d-42e2-84a8-28a4100a7fca",
   "metadata": {},
   "outputs": [
    {
     "name": "stderr",
     "output_type": "stream",
     "text": [
      "/Library/Frameworks/Python.framework/Versions/3.11/lib/python3.11/site-packages/google/cloud/bigquery/table.py:1965: UserWarning: BigQuery Storage module not found, fetch data with the REST endpoint instead.\n",
      "  warnings.warn(\n"
     ]
    },
    {
     "data": {
      "image/png": "[encoded data removed]",
      "text/plain": [
       "<Figure size 1200x800 with 1 Axes>"
      ]
     },
     "metadata": {},
     "output_type": "display_data"
    }
   ],
   "source": [
    "# Define your query — example: Citbike Trip dataset\n",
    "query = \"\"\"\n",
    "WITH day_type_counts AS (\n",
    "  SELECT\n",
    "    start_station_name,\n",
    "    CASE\n",
    "      WHEN EXTRACT(DAYOFWEEK FROM starttime) IN (1, 7) THEN 'weekend'\n",
    "      ELSE 'weekday'\n",
    "    END AS day_type,\n",
    "    COUNT(*) AS trip_count\n",
    "  FROM `bigquery-public-data.new_york_citibike.citibike_trips`\n",
    "  WHERE start_station_name IS NOT NULL AND start_station_name <> ''\n",
    "  GROUP BY start_station_name, day_type\n",
    "),\n",
    "\n",
    "pivoted AS (\n",
    "  SELECT\n",
    "    start_station_name,\n",
    "    SUM(CASE WHEN day_type = 'weekday' THEN trip_count ELSE 0 END) AS weekday_trips,\n",
    "    SUM(CASE WHEN day_type = 'weekend' THEN trip_count ELSE 0 END) AS weekend_trips\n",
    "  FROM day_type_counts\n",
    "  GROUP BY start_station_name\n",
    ")\n",
    "\n",
    "SELECT\n",
    "  start_station_name,\n",
    "  weekday_trips,\n",
    "  weekend_trips,\n",
    "  ABS(weekday_trips - weekend_trips) AS usage_diff\n",
    "FROM pivoted\n",
    "ORDER BY usage_diff DESC\n",
    "LIMIT 3\n",
    "\"\"\"\n",
    "\n",
    "# Run the query\n",
    "day_query_job = client.query(query)\n",
    "\n",
    "# Convert to pandas DataFrame\n",
    "results = day_query_job.to_dataframe()\n",
    "\n",
    "viz = (\n",
    "    results\n",
    "      .assign(station=lambda d: d['start_station_name'].str.wrap(20))  # tidy long station names\n",
    "      .melt(id_vars='station',\n",
    "            value_vars=['weekday_trips', 'weekend_trips'],\n",
    "            var_name='day_type',\n",
    "            value_name='trip_count')\n",
    ")\n",
    "\n",
    "# ─── 2) Side‑by‑side bars (weekday vs weekend) ───────────────────\n",
    "import matplotlib.pyplot as plt\n",
    "import seaborn as sns\n",
    "\n",
    "plt.figure(figsize=(12, 8))\n",
    "sns.barplot(\n",
    "    data=viz,\n",
    "    y='station',              # stations down the y‑axis\n",
    "    x='trip_count',\n",
    "    hue='day_type',           # two bars per station\n",
    "    dodge=True)\n",
    "plt.title('Weekday vs. Weekend Trips – Top 3 Start Stations')\n",
    "plt.xlabel('Trips')\n",
    "plt.ylabel('Start Station')\n",
    "plt.legend(title='')\n",
    "plt.tight_layout()\n",
    "plt.show()"
   ]
  }
 ],
 "metadata": {
  "kernelspec": {
   "display_name": "Python 3 (ipykernel)",
   "language": "python",
   "name": "python3"
  },
  "language_info": {
   "codemirror_mode": {
    "name": "ipython",
    "version": 3
   },
   "file_extension": ".py",
   "mimetype": "text/x-python",
   "name": "python",
   "nbconvert_exporter": "python",
   "pygments_lexer": "ipython3",
   "version": "3.11.0"
  }
 },
 "nbformat": 4,
 "nbformat_minor": 5
}
