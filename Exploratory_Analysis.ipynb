{
 "cells": [
  {
   "cell_type": "code",
   "execution_count": null,
   "id": "ca83874f-25be-469e-9235-724fd7e92fa6",
   "metadata": {},
   "outputs": [],
   "source": [
    "Exploratory Data Analysis"
   ]
  },
  {
   "cell_type": "code",
   "execution_count": 98,
   "id": "c7092486-6756-44af-a902-b844f81a93a6",
   "metadata": {
    "scrolled": true
   },
   "outputs": [
    {
     "name": "stdout",
     "output_type": "stream",
     "text": [
      "Requirement already satisfied: google-cloud-bigquery in /Library/Frameworks/Python.framework/Versions/3.11/lib/python3.11/site-packages (3.35.0)\n",
      "Requirement already satisfied: pandas-gbq in /Library/Frameworks/Python.framework/Versions/3.11/lib/python3.11/site-packages (0.29.2)\n",
      "Requirement already satisfied: pyarrow in /Library/Frameworks/Python.framework/Versions/3.11/lib/python3.11/site-packages (21.0.0)\n",
      "Requirement already satisfied: google-api-core<3.0.0,>=2.11.1 in /Library/Frameworks/Python.framework/Versions/3.11/lib/python3.11/site-packages (from google-api-core[grpc]<3.0.0,>=2.11.1->google-cloud-bigquery) (2.24.1)\n",
      "Requirement already satisfied: google-auth<3.0.0,>=2.14.1 in /Library/Frameworks/Python.framework/Versions/3.11/lib/python3.11/site-packages (from google-cloud-bigquery) (2.38.0)\n",
      "Requirement already satisfied: google-cloud-core<3.0.0,>=2.4.1 in /Library/Frameworks/Python.framework/Versions/3.11/lib/python3.11/site-packages (from google-cloud-bigquery) (2.4.1)\n",
      "Requirement already satisfied: google-resumable-media<3.0.0,>=2.0.0 in /Library/Frameworks/Python.framework/Versions/3.11/lib/python3.11/site-packages (from google-cloud-bigquery) (2.7.2)\n",
      "Requirement already satisfied: packaging>=24.2.0 in /Library/Frameworks/Python.framework/Versions/3.11/lib/python3.11/site-packages (from google-cloud-bigquery) (25.0)\n",
      "Requirement already satisfied: python-dateutil<3.0.0,>=2.8.2 in /Library/Frameworks/Python.framework/Versions/3.11/lib/python3.11/site-packages (from google-cloud-bigquery) (2.9.0.post0)\n",
      "Requirement already satisfied: requests<3.0.0,>=2.21.0 in /Library/Frameworks/Python.framework/Versions/3.11/lib/python3.11/site-packages (from google-cloud-bigquery) (2.32.3)\n",
      "Requirement already satisfied: googleapis-common-protos<2.0.dev0,>=1.56.2 in /Library/Frameworks/Python.framework/Versions/3.11/lib/python3.11/site-packages (from google-api-core<3.0.0,>=2.11.1->google-api-core[grpc]<3.0.0,>=2.11.1->google-cloud-bigquery) (1.63.2)\n",
      "Requirement already satisfied: protobuf!=3.20.0,!=3.20.1,!=4.21.0,!=4.21.1,!=4.21.2,!=4.21.3,!=4.21.4,!=4.21.5,<6.0.0.dev0,>=3.19.5 in /Library/Frameworks/Python.framework/Versions/3.11/lib/python3.11/site-packages (from google-api-core<3.0.0,>=2.11.1->google-api-core[grpc]<3.0.0,>=2.11.1->google-cloud-bigquery) (4.25.6)\n",
      "Requirement already satisfied: proto-plus<2.0.0dev,>=1.22.3 in /Library/Frameworks/Python.framework/Versions/3.11/lib/python3.11/site-packages (from google-api-core<3.0.0,>=2.11.1->google-api-core[grpc]<3.0.0,>=2.11.1->google-cloud-bigquery) (1.26.0)\n",
      "Requirement already satisfied: grpcio<2.0dev,>=1.33.2 in /Library/Frameworks/Python.framework/Versions/3.11/lib/python3.11/site-packages (from google-api-core[grpc]<3.0.0,>=2.11.1->google-cloud-bigquery) (1.67.1)\n",
      "Requirement already satisfied: grpcio-status<2.0.dev0,>=1.33.2 in /Library/Frameworks/Python.framework/Versions/3.11/lib/python3.11/site-packages (from google-api-core[grpc]<3.0.0,>=2.11.1->google-cloud-bigquery) (1.62.3)\n",
      "Requirement already satisfied: cachetools<6.0,>=2.0.0 in /Library/Frameworks/Python.framework/Versions/3.11/lib/python3.11/site-packages (from google-auth<3.0.0,>=2.14.1->google-cloud-bigquery) (5.5.1)\n",
      "Requirement already satisfied: pyasn1-modules>=0.2.1 in /Library/Frameworks/Python.framework/Versions/3.11/lib/python3.11/site-packages (from google-auth<3.0.0,>=2.14.1->google-cloud-bigquery) (0.4.1)\n",
      "Requirement already satisfied: rsa<5,>=3.1.4 in /Library/Frameworks/Python.framework/Versions/3.11/lib/python3.11/site-packages (from google-auth<3.0.0,>=2.14.1->google-cloud-bigquery) (4.9)\n",
      "Requirement already satisfied: google-crc32c<2.0dev,>=1.0 in /Library/Frameworks/Python.framework/Versions/3.11/lib/python3.11/site-packages (from google-resumable-media<3.0.0,>=2.0.0->google-cloud-bigquery) (1.6.0)\n",
      "Requirement already satisfied: six>=1.5 in /Library/Frameworks/Python.framework/Versions/3.11/lib/python3.11/site-packages (from python-dateutil<3.0.0,>=2.8.2->google-cloud-bigquery) (1.17.0)\n",
      "Requirement already satisfied: charset-normalizer<4,>=2 in /Library/Frameworks/Python.framework/Versions/3.11/lib/python3.11/site-packages (from requests<3.0.0,>=2.21.0->google-cloud-bigquery) (3.4.1)\n",
      "Requirement already satisfied: idna<4,>=2.5 in /Library/Frameworks/Python.framework/Versions/3.11/lib/python3.11/site-packages (from requests<3.0.0,>=2.21.0->google-cloud-bigquery) (3.10)\n",
      "Requirement already satisfied: urllib3<3,>=1.21.1 in /Library/Frameworks/Python.framework/Versions/3.11/lib/python3.11/site-packages (from requests<3.0.0,>=2.21.0->google-cloud-bigquery) (2.3.0)\n",
      "Requirement already satisfied: certifi>=2017.4.17 in /Library/Frameworks/Python.framework/Versions/3.11/lib/python3.11/site-packages (from requests<3.0.0,>=2.21.0->google-cloud-bigquery) (2025.1.31)\n",
      "Requirement already satisfied: pyasn1>=0.1.3 in /Library/Frameworks/Python.framework/Versions/3.11/lib/python3.11/site-packages (from rsa<5,>=3.1.4->google-auth<3.0.0,>=2.14.1->google-cloud-bigquery) (0.6.1)\n",
      "Requirement already satisfied: setuptools in /Library/Frameworks/Python.framework/Versions/3.11/lib/python3.11/site-packages (from pandas-gbq) (75.8.0)\n",
      "Requirement already satisfied: db-dtypes<2.0.0,>=1.0.4 in /Library/Frameworks/Python.framework/Versions/3.11/lib/python3.11/site-packages (from pandas-gbq) (1.4.3)\n",
      "Requirement already satisfied: numpy>=1.18.1 in /Library/Frameworks/Python.framework/Versions/3.11/lib/python3.11/site-packages (from pandas-gbq) (1.26.4)\n",
      "Requirement already satisfied: pandas>=1.1.4 in /Library/Frameworks/Python.framework/Versions/3.11/lib/python3.11/site-packages (from pandas-gbq) (2.2.3)\n",
      "Requirement already satisfied: pydata-google-auth>=1.5.0 in /Library/Frameworks/Python.framework/Versions/3.11/lib/python3.11/site-packages (from pandas-gbq) (1.9.1)\n",
      "Requirement already satisfied: google-auth-oauthlib>=0.7.0 in /Library/Frameworks/Python.framework/Versions/3.11/lib/python3.11/site-packages (from pandas-gbq) (1.2.1)\n",
      "Requirement already satisfied: requests-oauthlib>=0.7.0 in /Library/Frameworks/Python.framework/Versions/3.11/lib/python3.11/site-packages (from google-auth-oauthlib>=0.7.0->pandas-gbq) (2.0.0)\n",
      "Requirement already satisfied: pytz>=2020.1 in /Library/Frameworks/Python.framework/Versions/3.11/lib/python3.11/site-packages (from pandas>=1.1.4->pandas-gbq) (2025.1)\n",
      "Requirement already satisfied: tzdata>=2022.7 in /Library/Frameworks/Python.framework/Versions/3.11/lib/python3.11/site-packages (from pandas>=1.1.4->pandas-gbq) (2025.1)\n",
      "Requirement already satisfied: oauthlib>=3.0.0 in /Library/Frameworks/Python.framework/Versions/3.11/lib/python3.11/site-packages (from requests-oauthlib>=0.7.0->google-auth-oauthlib>=0.7.0->pandas-gbq) (3.2.2)\n"
     ]
    }
   ],
   "source": [
    "!pip install --upgrade google-cloud-bigquery pandas-gbq pyarrow"
   ]
  },
  {
   "cell_type": "code",
   "execution_count": 99,
   "id": "1dc046a3-64ef-43a2-ab95-05dd8641647f",
   "metadata": {},
   "outputs": [
    {
     "data": {
      "text/plain": [
       "'/Users/oscartran/Peek'"
      ]
     },
     "execution_count": 99,
     "metadata": {},
     "output_type": "execute_result"
    }
   ],
   "source": [
    "import os\n",
    "import pandas as pd\n",
    "import sqlite3\n",
    "from google.cloud import bigquery\n",
    "# Create BigQuery client\n",
    "client = bigquery.Client(project=\"main-cocoa-308521\")"
   ]
  },
  {
   "cell_type": "markdown",
   "id": "beae60f0-b2d3-45df-b6d2-beb44c1c8468",
   "metadata": {},
   "source": [
    "For each bike ID, compute the longest streak of consecutive days it was used."
   ]
  },
  {
   "cell_type": "code",
   "execution_count": 101,
   "id": "1539aa07-a815-42aa-9700-80f6317b397d",
   "metadata": {},
   "outputs": [
    {
     "name": "stderr",
     "output_type": "stream",
     "text": [
      "/Library/Frameworks/Python.framework/Versions/3.11/lib/python3.11/site-packages/google/cloud/bigquery/table.py:1965: UserWarning: BigQuery Storage module not found, fetch data with the REST endpoint instead.\n",
      "  warnings.warn(\n"
     ]
    },
    {
     "name": "stdout",
     "output_type": "stream",
     "text": [
      "       bikeid  longest_streak\n",
      "0       17333             131\n",
      "1       26324             116\n",
      "2       18897             114\n",
      "3       15870             105\n",
      "4       23273             105\n",
      "...       ...             ...\n",
      "17677   21758               1\n",
      "17678   30402               1\n",
      "17679   31859               1\n",
      "17680   29833               1\n",
      "17681   29598               1\n",
      "\n",
      "[17682 rows x 2 columns]\n"
     ]
    }
   ],
   "source": [
    "# Define your query — example: Citbike Trip dataset\n",
    "query = \"\"\"\n",
    "WITH bike_days AS (\n",
    "  SELECT\n",
    "    bikeid,\n",
    "    DATE(starttime) AS ride_date\n",
    "  FROM `bigquery-public-data.new_york_citibike.citibike_trips`\n",
    "  WHERE bikeid IS NOT NULL\n",
    "  GROUP BY bikeid, ride_date\n",
    "),\n",
    "\n",
    "streaks AS (\n",
    "  SELECT\n",
    "    bikeid,\n",
    "    ride_date,\n",
    "    DATE_SUB(ride_date, INTERVAL ROW_NUMBER() OVER (PARTITION BY bikeid ORDER BY ride_date) DAY) AS streak_group\n",
    "  FROM bike_days\n",
    "),\n",
    "\n",
    "streak_lengths AS (\n",
    "  SELECT\n",
    "    bikeid,\n",
    "    streak_group,\n",
    "    COUNT(*) AS streak_length\n",
    "  FROM streaks\n",
    "  GROUP BY bikeid, streak_group\n",
    ")\n",
    "\n",
    "SELECT\n",
    "  bikeid,\n",
    "  MAX(streak_length) AS longest_streak\n",
    "FROM streak_lengths\n",
    "GROUP BY bikeid\n",
    "ORDER BY longest_streak DESC\n",
    "\"\"\"\n",
    "\n",
    "# Run the query\n",
    "streak_query_job = client.query(query)\n",
    "\n",
    "# Convert to pandas DataFrame\n",
    "results = streak_query_job.to_dataframe()\n",
    "print(results)"
   ]
  },
  {
   "cell_type": "markdown",
   "id": "d62dc68e-0902-4315-b46f-52ff9ea605f8",
   "metadata": {},
   "source": [
    "Which stations show the biggest difference between weekday and weekend usage?"
   ]
  },
  {
   "cell_type": "code",
   "execution_count": 195,
   "id": "cb74295c-7738-4cfa-971a-058e8d25d4db",
   "metadata": {},
   "outputs": [
    {
     "name": "stderr",
     "output_type": "stream",
     "text": [
      "/Library/Frameworks/Python.framework/Versions/3.11/lib/python3.11/site-packages/google/cloud/bigquery/table.py:1965: UserWarning: BigQuery Storage module not found, fetch data with the REST endpoint instead.\n",
      "  warnings.warn(\n"
     ]
    },
    {
     "name": "stdout",
     "output_type": "stream",
     "text": [
      "         start_station_name  weekday_trips  weekend_trips  usage_diff\n",
      "0     Pershing Square North         393615          44462      349153\n",
      "1           8 Ave & W 31 St         348074          53480      294594\n",
      "2           W 41 St & 8 Ave         270784          40619      230165\n",
      "3        Broadway & E 22 St         295823          71371      224452\n",
      "4           8 Ave & W 33 St         276441          53937      222504\n",
      "5           W 21 St & 6 Ave         308169          95626      212543\n",
      "6        E 17 St & Broadway         317713         105621      212092\n",
      "7           W 38 St & 8 Ave         242224          31357      210867\n",
      "8           W 31 St & 7 Ave         236030          34265      201765\n",
      "9     Lafayette St & E 8 St         285704          86551      199153\n",
      "10       E 47 St & Park Ave         210173          15810      194363\n",
      "11          W 33 St & 7 Ave         212412          36929      175483\n",
      "12       Broadway & E 14 St         254501          90045      164456\n",
      "13       E 32 St & Park Ave         198180          35409      162771\n",
      "14  Lexington Ave & E 24 St         204578          42624      161954\n",
      "15          W 18 St & 6 Ave         217836          57298      160538\n",
      "16       Broadway & W 41 St         187920          30835      157085\n",
      "17    West St & Chambers St         269834         114282      155552\n",
      "18          W 27 St & 7 Ave         188341          33002      155339\n",
      "19   Barclay St & Church St         184767          30050      154717\n"
     ]
    }
   ],
   "source": [
    "# Define your query — example: Citbike Trip dataset\n",
    "query = \"\"\"\n",
    "WITH day_type_counts AS (\n",
    "  SELECT\n",
    "    start_station_name,\n",
    "    CASE\n",
    "      WHEN EXTRACT(DAYOFWEEK FROM starttime) IN (1, 7) THEN 'weekend'\n",
    "      ELSE 'weekday'\n",
    "    END AS day_type,\n",
    "    COUNT(*) AS trip_count\n",
    "  FROM `bigquery-public-data.new_york_citibike.citibike_trips`\n",
    "  WHERE start_station_name IS NOT NULL AND end_station_name <> ''\n",
    "  GROUP BY start_station_name, day_type\n",
    "),\n",
    "\n",
    "pivoted AS (\n",
    "  SELECT\n",
    "    start_station_name,\n",
    "    SUM(CASE WHEN day_type = 'weekday' THEN trip_count ELSE 0 END) AS weekday_trips,\n",
    "    SUM(CASE WHEN day_type = 'weekend' THEN trip_count ELSE 0 END) AS weekend_trips\n",
    "  FROM day_type_counts\n",
    "  GROUP BY start_station_name\n",
    ")\n",
    "\n",
    "SELECT\n",
    "  start_station_name,\n",
    "  weekday_trips,\n",
    "  weekend_trips,\n",
    "  ABS(weekday_trips - weekend_trips) AS usage_diff\n",
    "FROM pivoted\n",
    "ORDER BY usage_diff DESC\n",
    "LIMIT 20\n",
    "\"\"\"\n",
    "\n",
    "# Run the query\n",
    "day_query_job = client.query(query)\n",
    "\n",
    "# Convert to pandas DataFrame\n",
    "results = day_query_job.to_dataframe()\n",
    "print(results)"
   ]
  },
  {
   "cell_type": "markdown",
   "id": "9d446ed7-7f58-4d17-9b6f-6d43aa77ecfb",
   "metadata": {},
   "source": [
    "How has the average trip duration changed month-over-month for the 20 busiest stations?"
   ]
  },
  {
   "cell_type": "code",
   "execution_count": 103,
   "id": "a1d1ccc5-ddfd-44d5-b6bf-1499f75ad16d",
   "metadata": {},
   "outputs": [
    {
     "name": "stderr",
     "output_type": "stream",
     "text": [
      "/Library/Frameworks/Python.framework/Versions/3.11/lib/python3.11/site-packages/google/cloud/bigquery/table.py:1965: UserWarning: BigQuery Storage module not found, fetch data with the REST endpoint instead.\n",
      "  warnings.warn(\n"
     ]
    },
    {
     "name": "stdout",
     "output_type": "stream",
     "text": [
      "        start_station_name  trip_year  trip_month  avg_duration_min\n",
      "0          8 Ave & W 31 St       2013           7         14.774972\n",
      "1          8 Ave & W 31 St       2013           8         14.472288\n",
      "2          8 Ave & W 31 St       2013           9         14.244704\n",
      "3          8 Ave & W 31 St       2013          10         13.101643\n",
      "4          8 Ave & W 31 St       2013          11         12.611035\n",
      "..                     ...        ...         ...               ...\n",
      "984  West St & Chambers St       2018           1         14.391111\n",
      "985  West St & Chambers St       2018           2         15.623875\n",
      "986  West St & Chambers St       2018           3         16.093209\n",
      "987  West St & Chambers St       2018           4         20.205197\n",
      "988  West St & Chambers St       2018           5         20.879490\n",
      "\n",
      "[989 rows x 4 columns]\n"
     ]
    }
   ],
   "source": [
    "# Define your query — example: Citbike Trip dataset\n",
    "query = \"\"\"\n",
    "WITH trip_counts AS (\n",
    "  SELECT\n",
    "    start_station_name,\n",
    "    COUNT(*) AS trip_count\n",
    "  FROM `bigquery-public-data.new_york_citibike.citibike_trips`\n",
    "  WHERE start_station_name IS NOT NULL\n",
    "  GROUP BY start_station_name\n",
    "  ORDER BY trip_count DESC\n",
    "  LIMIT 20\n",
    "),\n",
    "\n",
    "monthly_avg_duration AS (\n",
    "  SELECT\n",
    "    t.start_station_name,\n",
    "    EXTRACT(YEAR FROM t.starttime) AS trip_year,\n",
    "    EXTRACT(MONTH FROM t.starttime) AS trip_month,\n",
    "    AVG(TIMESTAMP_DIFF(t.stoptime, t.starttime, MINUTE)) AS avg_duration_min\n",
    "  FROM `bigquery-public-data.new_york_citibike.citibike_trips` t\n",
    "  JOIN trip_counts b\n",
    "    ON t.start_station_name = b.start_station_name\n",
    "  WHERE t.start_station_name IS NOT NULL\n",
    "    AND t.stoptime IS NOT NULL\n",
    "    AND t.starttime IS NOT NULL\n",
    "  GROUP BY start_station_name, trip_year, trip_month\n",
    ")\n",
    "\n",
    "SELECT\n",
    "  start_station_name,\n",
    "  trip_year,\n",
    "  trip_month,\n",
    "  avg_duration_min\n",
    "FROM monthly_avg_duration\n",
    "ORDER BY start_station_name, trip_year, trip_month\n",
    "\n",
    "\"\"\"\n",
    "\n",
    "# Run the query\n",
    "trip_duration_query_job = client.query(query)\n",
    "\n",
    "# Convert to pandas DataFrame\n",
    "results = trip_duration_query_job.to_dataframe()\n",
    "print(results)"
   ]
  },
  {
   "cell_type": "code",
   "execution_count": null,
   "id": "64631b4e-b0b0-4535-991a-87ca6dd9b37f",
   "metadata": {},
   "outputs": [],
   "source": []
  },
  {
   "cell_type": "markdown",
   "id": "74d1a1c5-cb16-46e0-8737-f0454321ba21",
   "metadata": {},
   "source": [
    "Classify each station-day into “Low”, “Medium”, or “High” demand based on trip volume percentiles."
   ]
  },
  {
   "cell_type": "code",
   "execution_count": 54,
   "id": "72cfaa27-22c2-4b1b-bc76-1d19c0136483",
   "metadata": {},
   "outputs": [
    {
     "name": "stdout",
     "output_type": "stream",
     "text": [
      "        start_station_id   trip_date  trip_count demand_category\n",
      "0                   <NA>         NaT     5828994            High\n",
      "1                     72  2013-07-01          55          Medium\n",
      "2                     72  2013-07-02          85            High\n",
      "3                     72  2013-07-03          88            High\n",
      "4                     72  2013-07-04          87            High\n",
      "...                  ...         ...         ...             ...\n",
      "731657              3685  2018-05-27          72          Medium\n",
      "731658              3686  2018-05-28          39          Medium\n",
      "731659              3686  2018-05-29         185            High\n",
      "731660              3686  2018-05-30         210            High\n",
      "731661              3686  2018-05-31         187            High\n",
      "\n",
      "[731662 rows x 4 columns]\n"
     ]
    }
   ],
   "source": [
    "# Define your query — example: Citbike Trip dataset\n",
    "query = \"\"\"\n",
    "\n",
    "WITH trips_per_station_day AS (\n",
    "  SELECT\n",
    "    start_station_id,\n",
    "    DATE(starttime) AS trip_date,\n",
    "    COUNT(*) AS trip_count\n",
    "  FROM `bigquery-public-data.new_york_citibike.citibike_trips`\n",
    "  GROUP BY start_station_id, trip_date\n",
    "),\n",
    "\n",
    "percentiles AS (\n",
    "  SELECT\n",
    "    PERCENTILE_CONT(trip_count, 0.33) OVER() AS p33,\n",
    "    PERCENTILE_CONT(trip_count, 0.66) OVER() AS p66\n",
    "  FROM trips_per_station_day\n",
    "  LIMIT 1\n",
    "),\n",
    "\n",
    "demand_classification AS (\n",
    "  SELECT\n",
    "    t.start_station_id,\n",
    "    t.trip_date,\n",
    "    t.trip_count,\n",
    "    CASE\n",
    "      WHEN t.trip_count <= p.p33 THEN 'Low'\n",
    "      WHEN t.trip_count <= p.p66 THEN 'Medium'\n",
    "      ELSE 'High'\n",
    "    END AS demand_category\n",
    "  FROM trips_per_station_day t\n",
    "  CROSS JOIN percentiles p\n",
    ")\n",
    "\n",
    "SELECT\n",
    "  *\n",
    "FROM\n",
    "  demand_classification\n",
    "ORDER BY\n",
    "  start_station_id,\n",
    "  trip_date;\n",
    "\n",
    "\n",
    "\n",
    "\n",
    "\n",
    "\"\"\"\n",
    "\n",
    "# Run the query\n",
    "demand_query_job = client.query(query)\n",
    "\n",
    "# Convert to pandas DataFrame\n",
    "results = demand_query_job.to_dataframe()\n",
    "print(results)"
   ]
  },
  {
   "cell_type": "markdown",
   "id": "8cd71ce7-76bc-4839-80ff-67a405f2c182",
   "metadata": {},
   "source": [
    "Then, analyze demand category distribution by borough."
   ]
  },
  {
   "cell_type": "code",
   "execution_count": 104,
   "id": "5c0e98bd-abc0-4da1-aee0-c92fe902082f",
   "metadata": {},
   "outputs": [
    {
     "name": "stderr",
     "output_type": "stream",
     "text": [
      "/Library/Frameworks/Python.framework/Versions/3.11/lib/python3.11/site-packages/google/cloud/bigquery/table.py:1965: UserWarning: BigQuery Storage module not found, fetch data with the REST endpoint instead.\n",
      "  warnings.warn(\n"
     ]
    },
    {
     "data": {
      "text/html": [
       "<div>\n",
       "<style scoped>\n",
       "    .dataframe tbody tr th:only-of-type {\n",
       "        vertical-align: middle;\n",
       "    }\n",
       "\n",
       "    .dataframe tbody tr th {\n",
       "        vertical-align: top;\n",
       "    }\n",
       "\n",
       "    .dataframe thead th {\n",
       "        text-align: right;\n",
       "    }\n",
       "</style>\n",
       "<table border=\"1\" class=\"dataframe\">\n",
       "  <thead>\n",
       "    <tr style=\"text-align: right;\">\n",
       "      <th></th>\n",
       "      <th>boro</th>\n",
       "      <th>demand_category</th>\n",
       "      <th>station_day_count</th>\n",
       "      <th>pct_within_boro</th>\n",
       "    </tr>\n",
       "  </thead>\n",
       "  <tbody>\n",
       "    <tr>\n",
       "      <th>0</th>\n",
       "      <td>BK</td>\n",
       "      <td>High</td>\n",
       "      <td>8479</td>\n",
       "      <td>4.56</td>\n",
       "    </tr>\n",
       "    <tr>\n",
       "      <th>1</th>\n",
       "      <td>BK</td>\n",
       "      <td>Low</td>\n",
       "      <td>114327</td>\n",
       "      <td>61.48</td>\n",
       "    </tr>\n",
       "    <tr>\n",
       "      <th>2</th>\n",
       "      <td>BK</td>\n",
       "      <td>Medium</td>\n",
       "      <td>63154</td>\n",
       "      <td>33.96</td>\n",
       "    </tr>\n",
       "    <tr>\n",
       "      <th>3</th>\n",
       "      <td>MN</td>\n",
       "      <td>High</td>\n",
       "      <td>182957</td>\n",
       "      <td>50.60</td>\n",
       "    </tr>\n",
       "    <tr>\n",
       "      <th>4</th>\n",
       "      <td>MN</td>\n",
       "      <td>Low</td>\n",
       "      <td>57061</td>\n",
       "      <td>15.78</td>\n",
       "    </tr>\n",
       "    <tr>\n",
       "      <th>5</th>\n",
       "      <td>MN</td>\n",
       "      <td>Medium</td>\n",
       "      <td>121545</td>\n",
       "      <td>33.62</td>\n",
       "    </tr>\n",
       "    <tr>\n",
       "      <th>6</th>\n",
       "      <td>QN</td>\n",
       "      <td>High</td>\n",
       "      <td>452</td>\n",
       "      <td>2.03</td>\n",
       "    </tr>\n",
       "    <tr>\n",
       "      <th>7</th>\n",
       "      <td>QN</td>\n",
       "      <td>Low</td>\n",
       "      <td>18767</td>\n",
       "      <td>84.29</td>\n",
       "    </tr>\n",
       "    <tr>\n",
       "      <th>8</th>\n",
       "      <td>QN</td>\n",
       "      <td>Medium</td>\n",
       "      <td>3045</td>\n",
       "      <td>13.68</td>\n",
       "    </tr>\n",
       "  </tbody>\n",
       "</table>\n",
       "</div>"
      ],
      "text/plain": [
       "  boro demand_category  station_day_count  pct_within_boro\n",
       "0   BK            High               8479             4.56\n",
       "1   BK             Low             114327            61.48\n",
       "2   BK          Medium              63154            33.96\n",
       "3   MN            High             182957            50.60\n",
       "4   MN             Low              57061            15.78\n",
       "5   MN          Medium             121545            33.62\n",
       "6   QN            High                452             2.03\n",
       "7   QN             Low              18767            84.29\n",
       "8   QN          Medium               3045            13.68"
      ]
     },
     "metadata": {},
     "output_type": "display_data"
    },
    {
     "name": "stdout",
     "output_type": "stream",
     "text": [
      "Missing borough label for 0.00% of station-days\n"
     ]
    }
   ],
   "source": [
    "# 1) SQL with station_id included and no premature aggregation\n",
    "query = \"\"\"\n",
    "-- 1) bring station_id into every trip row (fast clustered join)\n",
    "WITH trips AS (\n",
    "  SELECT\n",
    "    t.start_station_id AS station_id,                 -- already STRING in the BQ table\n",
    "    DATE(t.starttime) AS trip_date\n",
    "  FROM `bigquery-public-data.new_york_citibike.citibike_trips`   t\n",
    "  JOIN `bigquery-public-data.new_york_citibike.citibike_stations` s\n",
    "    ON t.start_station_name = s.name\n",
    "  WHERE t.start_station_name IS NOT NULL      -- defensive\n",
    "),\n",
    "\n",
    "-- 2) daily trip counts per station\n",
    "daily AS (\n",
    "  SELECT\n",
    "    station_id,\n",
    "    trip_date,\n",
    "    COUNT(*) AS trip_count\n",
    "  FROM trips\n",
    "  GROUP BY station_id, trip_date\n",
    "),\n",
    "\n",
    "-- 3) global tercile cut-offs\n",
    "cut AS (\n",
    "  SELECT\n",
    "    APPROX_QUANTILES(trip_count, 100)[OFFSET(33)] AS p33,\n",
    "    APPROX_QUANTILES(trip_count, 100)[OFFSET(66)] AS p66\n",
    "  FROM daily\n",
    ")\n",
    "\n",
    "-- 4) tag every station-day\n",
    "SELECT\n",
    "  station_id,\n",
    "  trip_date,\n",
    "  CASE\n",
    "    WHEN trip_count <= c.p33 THEN 'Low'\n",
    "    WHEN trip_count <= c.p66 THEN 'Medium'\n",
    "    ELSE 'High'\n",
    "  END AS demand_category\n",
    "FROM daily d\n",
    "CROSS JOIN cut c;\n",
    "\"\"\"\n",
    "\n",
    "\n",
    "# 2) Pull into a DataFrame\n",
    "results = client.query(query).result().to_dataframe()   # station_id is STRING\n",
    "\n",
    "# 3) Read the TSV map\n",
    "tsv_path = \"citibike-stations-data-summary.tsv\"   # <- edit\n",
    "\n",
    "stations_boro = (\n",
    "    pd.read_csv(tsv_path, sep=\"\\t\", dtype={'station_id': int})\n",
    "      .loc[:, ['station_id', 'boro']]      # keep only what we need\n",
    "      .drop_duplicates()\n",
    ")\n",
    "\n",
    "\n",
    "# 4) Merge & compute distribution by boro\n",
    "# guarantee both columns are the same dtype\n",
    "results['station_id'] = results['station_id'].astype(int)\n",
    "\n",
    "merged = results.merge(stations_boro, on='station_id', how='left')\n",
    "\n",
    "distribution = (\n",
    "    merged\n",
    "      .groupby(['boro', 'demand_category'], dropna=False)\n",
    "      .size()\n",
    "      .reset_index(name='station_day_count')\n",
    "      .assign(\n",
    "          pct_within_boro=lambda d:\n",
    "              (100 * d.station_day_count /\n",
    "               d.groupby('boro').station_day_count.transform('sum')).round(2)\n",
    "      )\n",
    "      .sort_values(['boro', 'demand_category'])\n",
    ")\n",
    "\n",
    "display(distribution.head(10))\n",
    "\n",
    "# How many station-days still lack a borough after the merge?\n",
    "missing_pct = merged['boro'].isna().mean() * 100\n",
    "print(f\"Missing borough label for {missing_pct:.2f}% of station-days\")\n",
    "\n",
    "\n"
   ]
  },
  {
   "cell_type": "markdown",
   "id": "6daaccf9-e6ab-4c90-967c-cf69ff808f80",
   "metadata": {},
   "source": []
  },
  {
   "cell_type": "code",
   "execution_count": null,
   "id": "444ccdca-de98-4b6e-aa41-966308813eaf",
   "metadata": {},
   "outputs": [],
   "source": []
  },
  {
   "cell_type": "code",
   "execution_count": null,
   "id": "7f8e18dd-c215-4ffe-affc-74f966c6d25a",
   "metadata": {},
   "outputs": [],
   "source": []
  },
  {
   "cell_type": "code",
   "execution_count": null,
   "id": "a8a82a75-7fec-4fb1-8a53-f46ac6d0d887",
   "metadata": {},
   "outputs": [],
   "source": []
  },
  {
   "cell_type": "markdown",
   "id": "c10f87a3-2194-433e-9922-dd8542b6a40a",
   "metadata": {},
   "source": [
    "On high-volume days (>90th percentile), do users ride longer or shorter trips? Does this\n",
    "differ by rider type?"
   ]
  },
  {
   "cell_type": "code",
   "execution_count": 29,
   "id": "c29311df-dab4-49c0-8039-fdb7fd95ced4",
   "metadata": {},
   "outputs": [
    {
     "name": "stdout",
     "output_type": "stream",
     "text": [
      "  volume_label    usertype  avg_duration_mins  total_trips\n",
      "0        Other    Customer              33.85      5026543\n",
      "1        Other  Subscriber              13.30     37677570\n",
      "2  High-Volume    Customer              44.01      1164606\n",
      "3  High-Volume  Subscriber              13.99      9240002\n"
     ]
    }
   ],
   "source": [
    "# Define your query — example: Citbike Trip dataset\n",
    "query = \"\"\"\n",
    "-- 1) Compute daily trip counts\n",
    "WITH daily_counts AS (\n",
    "  SELECT\n",
    "    DATE(starttime)        AS trip_date,\n",
    "    COUNT(*)               AS trips_per_day\n",
    "  FROM\n",
    "    `bigquery-public-data.new_york_citibike.citibike_trips`\n",
    "  GROUP BY\n",
    "    trip_date\n",
    "),\n",
    "\n",
    "-- 2) Pull out the 90th percentile threshold\n",
    "p90 AS (\n",
    "  SELECT\n",
    "    APPROX_QUANTILES(trips_per_day, 100)[OFFSET(90)] AS pct90\n",
    "  FROM\n",
    "    daily_counts\n",
    "),\n",
    "\n",
    "-- 3) Label days High-Volume vs Other\n",
    "day_labels AS (\n",
    "  SELECT\n",
    "    dc.*,\n",
    "    IF(dc.trips_per_day > p.pct90, 'High-Volume', 'Other') AS volume_label\n",
    "  FROM\n",
    "    daily_counts dc\n",
    "  CROSS JOIN\n",
    "    p90 p\n",
    "),\n",
    "\n",
    "-- 4) Join back to all trips, carry along the label\n",
    "trips_with_label AS (\n",
    "  SELECT\n",
    "    t.tripduration,\n",
    "    t.usertype,\n",
    "    dl.volume_label\n",
    "  FROM\n",
    "    `bigquery-public-data.new_york_citibike.citibike_trips` t\n",
    "  JOIN\n",
    "    day_labels dl\n",
    "  ON\n",
    "    DATE(t.starttime) = dl.trip_date\n",
    ")\n",
    "\n",
    "-- 5) Compare avg tripduration by day‐type and usertype\n",
    "SELECT\n",
    "  volume_label,\n",
    "  usertype,\n",
    "  ROUND(AVG(tripduration)/60, 2) AS avg_duration_mins,\n",
    "  COUNT(*)                 AS total_trips\n",
    "FROM\n",
    "  trips_with_label\n",
    "GROUP BY\n",
    "  volume_label,\n",
    "  usertype\n",
    "ORDER BY\n",
    "  volume_label DESC,\n",
    "  usertype;\n",
    "\n",
    "\n",
    "\n",
    "\"\"\"\n",
    "\n",
    "# Run the query\n",
    "duration_job = client.query(query)\n",
    "\n",
    "# Convert to pandas DataFrame\n",
    "results = duration_job.to_dataframe()\n",
    "print(results)"
   ]
  },
  {
   "cell_type": "markdown",
   "id": "eda0b2e0-3e19-4cfa-ac06-e50d0a811d79",
   "metadata": {},
   "source": [
    "Additional Prompts"
   ]
  },
  {
   "cell_type": "markdown",
   "id": "3c891e88-6bf5-4176-b07e-87bb8bbc917e",
   "metadata": {},
   "source": [
    "When are trips most frequent (by hour, day, or month)?"
   ]
  },
  {
   "cell_type": "code",
   "execution_count": 30,
   "id": "dbc25d22-03fa-441e-a6a6-aad0f7fc4d7a",
   "metadata": {},
   "outputs": [],
   "source": [
    "# Define your query — example: Citbike Trip dataset\n",
    "hour_query = \"\"\"\n",
    "SELECT\n",
    "  EXTRACT(HOUR FROM starttime) AS hour_of_day,\n",
    "  COUNT(*)                    AS trip_count\n",
    "FROM\n",
    "  `bigquery-public-data.new_york_citibike.citibike_trips`\n",
    "GROUP BY\n",
    "  hour_of_day\n",
    "ORDER BY\n",
    "  trip_count DESC\n",
    "LIMIT 5;\n",
    "\n",
    "\"\"\"\n",
    "\n",
    "dow_query = \"\"\"\n",
    "SELECT\n",
    "  FORMAT_TIMESTAMP('%A', starttime) AS weekday,\n",
    "  COUNT(*)                          AS trip_count\n",
    "FROM\n",
    "  `bigquery-public-data.new_york_citibike.citibike_trips`\n",
    "GROUP BY\n",
    "  weekday\n",
    "ORDER BY\n",
    "  trip_count DESC;\n",
    "\n",
    "\"\"\"\n",
    "\n",
    "month_query = \"\"\"\n",
    "SELECT\n",
    "  EXTRACT(MONTH FROM starttime) AS month,\n",
    "  COUNT(*)                     AS trip_count\n",
    "FROM\n",
    "  `bigquery-public-data.new_york_citibike.citibike_trips`\n",
    "GROUP BY\n",
    "  month\n",
    "ORDER BY\n",
    "  trip_count DESC;\n",
    "\n",
    "\"\"\"\n",
    "\n",
    "# Run the query\n",
    "hour_query_job = client.query(hour_query)\n",
    "dow_query_job = client.query(dow_query)\n",
    "month_query_job = client.query(month_query)\n"
   ]
  },
  {
   "cell_type": "code",
   "execution_count": 31,
   "id": "e76008c0-4d3a-414e-9cb8-85766540617a",
   "metadata": {},
   "outputs": [
    {
     "name": "stderr",
     "output_type": "stream",
     "text": [
      "/Library/Frameworks/Python.framework/Versions/3.11/lib/python3.11/site-packages/google/cloud/bigquery/table.py:1965: UserWarning: BigQuery Storage module not found, fetch data with the REST endpoint instead.\n",
      "  warnings.warn(\n"
     ]
    },
    {
     "name": "stdout",
     "output_type": "stream",
     "text": [
      "   hour_of_day  trip_count\n",
      "0         <NA>     5828994\n",
      "1           17     5232747\n",
      "2           18     5024723\n",
      "3            8     4161676\n",
      "4           16     3798414\n"
     ]
    }
   ],
   "source": [
    "hour_results = hour_query_job.to_dataframe()\n",
    "print(hour_results)"
   ]
  },
  {
   "cell_type": "code",
   "execution_count": 32,
   "id": "bf0d296b-c1f9-45ce-9a1a-28a0cdf6b0ba",
   "metadata": {},
   "outputs": [
    {
     "name": "stderr",
     "output_type": "stream",
     "text": [
      "/Library/Frameworks/Python.framework/Versions/3.11/lib/python3.11/site-packages/google/cloud/bigquery/table.py:1965: UserWarning: BigQuery Storage module not found, fetch data with the REST endpoint instead.\n",
      "  warnings.warn(\n"
     ]
    },
    {
     "name": "stdout",
     "output_type": "stream",
     "text": [
      "     weekday  trip_count\n",
      "0  Wednesday     8377153\n",
      "1   Thursday     8255421\n",
      "2    Tuesday     8161606\n",
      "3     Friday     7872756\n",
      "4     Monday     7658271\n",
      "5   Saturday     6540825\n",
      "6     Sunday     6242689\n",
      "7       None     5828994\n"
     ]
    }
   ],
   "source": [
    "dow_results = dow_query_job.to_dataframe()\n",
    "print(dow_results)"
   ]
  },
  {
   "cell_type": "code",
   "execution_count": 33,
   "id": "3650984e-4bb1-4be9-89e6-dd604020fcb2",
   "metadata": {},
   "outputs": [
    {
     "name": "stderr",
     "output_type": "stream",
     "text": [
      "/Library/Frameworks/Python.framework/Versions/3.11/lib/python3.11/site-packages/google/cloud/bigquery/table.py:1965: UserWarning: BigQuery Storage module not found, fetch data with the REST endpoint instead.\n",
      "  warnings.warn(\n"
     ]
    },
    {
     "name": "stdout",
     "output_type": "stream",
     "text": [
      "    month  trip_count\n",
      "0       9     6804899\n",
      "1       8     6518652\n",
      "2       5     6388361\n",
      "3       7     6013643\n",
      "4    <NA>     5828994\n",
      "5       6     5070011\n",
      "6      10     4976292\n",
      "7       4     4959266\n",
      "8      11     3522856\n",
      "9       3     2677536\n",
      "10     12     2537127\n",
      "11      2     1825654\n",
      "12      1     1814424\n"
     ]
    }
   ],
   "source": [
    "month_results = month_query_job.to_dataframe()\n",
    "print(month_results)"
   ]
  },
  {
   "cell_type": "code",
   "execution_count": null,
   "id": "8b83092b-699b-4062-bdf9-0b45c23bb153",
   "metadata": {},
   "outputs": [],
   "source": [
    "Top 10 most popular stations (simple aggregation)"
   ]
  },
  {
   "cell_type": "code",
   "execution_count": 34,
   "id": "21edf115-f30b-40aa-904e-153aac2a6491",
   "metadata": {},
   "outputs": [
    {
     "name": "stdout",
     "output_type": "stream",
     "text": [
      "                 station  total_trips\n",
      "0                            11657988\n",
      "1     E 17 St & Broadway       867794\n",
      "2  Pershing Square North       858008\n",
      "3        W 21 St & 6 Ave       811777\n",
      "4  West St & Chambers St       783149\n",
      "5        8 Ave & W 31 St       766860\n",
      "6     Broadway & E 22 St       745048\n",
      "7  Lafayette St & E 8 St       744934\n",
      "8     Broadway & E 14 St       688579\n",
      "9        8 Ave & W 33 St       639039\n"
     ]
    },
    {
     "name": "stderr",
     "output_type": "stream",
     "text": [
      "/Library/Frameworks/Python.framework/Versions/3.11/lib/python3.11/site-packages/google/cloud/bigquery/table.py:1965: UserWarning: BigQuery Storage module not found, fetch data with the REST endpoint instead.\n",
      "  warnings.warn(\n"
     ]
    }
   ],
   "source": [
    "# Define your query — example: Citbike Trip dataset\n",
    "query = \"\"\"\n",
    "WITH start_ct AS (\n",
    "  SELECT start_station_name AS station, COUNT(*) AS cnt\n",
    "  FROM `bigquery-public-data.new_york_citibike.citibike_trips`\n",
    "  GROUP BY start_station_name\n",
    "),\n",
    "end_ct AS (\n",
    "  SELECT end_station_name   AS station, COUNT(*) AS cnt\n",
    "  FROM `bigquery-public-data.new_york_citibike.citibike_trips`\n",
    "  GROUP BY end_station_name\n",
    ")\n",
    "SELECT\n",
    "  station,\n",
    "  SUM(cnt) AS total_trips\n",
    "FROM (\n",
    "  SELECT * FROM start_ct\n",
    "  UNION ALL\n",
    "  SELECT * FROM end_ct\n",
    ")\n",
    "GROUP BY\n",
    "  station\n",
    "ORDER BY\n",
    "  total_trips DESC\n",
    "LIMIT\n",
    "  10;\n",
    "\n",
    "\"\"\"\n",
    "\n",
    "# Run the query\n",
    "station_query_job = client.query(query)\n",
    "\n",
    "# Convert to pandas DataFrame\n",
    "results = station_query_job.to_dataframe()\n",
    "print(results)"
   ]
  },
  {
   "cell_type": "markdown",
   "id": "298cafc8-437b-4ce0-b6d1-cd71f5377fbf",
   "metadata": {},
   "source": [
    "Trip frequency by hour/day/month"
   ]
  },
  {
   "cell_type": "code",
   "execution_count": 38,
   "id": "ac74fafc-fda2-4fc2-8a88-a397f82dc7a0",
   "metadata": {},
   "outputs": [
    {
     "name": "stderr",
     "output_type": "stream",
     "text": [
      "/Library/Frameworks/Python.framework/Versions/3.11/lib/python3.11/site-packages/google/cloud/bigquery/table.py:1965: UserWarning: BigQuery Storage module not found, fetch data with the REST endpoint instead.\n",
      "  warnings.warn(\n"
     ]
    },
    {
     "name": "stdout",
     "output_type": "stream",
     "text": [
      "    hour_of_day  trip_count\n",
      "0          <NA>     5828994\n",
      "1             0      493474\n",
      "2             1      274130\n",
      "3             2      160739\n",
      "4             3       99089\n",
      "5             4       94279\n",
      "6             5      297710\n",
      "7             6     1121851\n",
      "8             7     2352084\n",
      "9             8     4161676\n",
      "10            9     3346692\n",
      "11           10     2339094\n",
      "12           11     2470146\n",
      "13           12     2871885\n",
      "14           13     3012169\n",
      "15           14     3103103\n",
      "16           15     3257591\n",
      "17           16     3798414\n",
      "18           17     5232747\n",
      "19           18     5024723\n",
      "20           19     3517025\n",
      "21           20     2353727\n",
      "22           21     1647701\n",
      "23           22     1242153\n",
      "24           23      836519\n"
     ]
    }
   ],
   "source": [
    "# Define your query — example: Citbike Trip dataset\n",
    "f_hour_query = \"\"\"\n",
    "SELECT\n",
    "  EXTRACT(HOUR   FROM starttime) AS hour_of_day,\n",
    "  COUNT(*)                         AS trip_count\n",
    "FROM\n",
    "  `bigquery-public-data.new_york_citibike.citibike_trips`\n",
    "GROUP BY\n",
    "  hour_of_day\n",
    "ORDER BY\n",
    "  hour_of_day;\n",
    "\n",
    "\n",
    "\"\"\"\n",
    "\n",
    "# Run the query\n",
    "f_hour_query_job = client.query(f_hour_query)\n",
    "\n",
    "# Convert to pandas DataFrame\n",
    "results = f_hour_query_job.to_dataframe()\n",
    "print(results)"
   ]
  },
  {
   "cell_type": "code",
   "execution_count": 41,
   "id": "34138a04-9455-474f-ad79-43e29d1c9e1f",
   "metadata": {},
   "outputs": [
    {
     "name": "stderr",
     "output_type": "stream",
     "text": [
      "/Library/Frameworks/Python.framework/Versions/3.11/lib/python3.11/site-packages/google/cloud/bigquery/table.py:1965: UserWarning: BigQuery Storage module not found, fetch data with the REST endpoint instead.\n",
      "  warnings.warn(\n"
     ]
    },
    {
     "name": "stdout",
     "output_type": "stream",
     "text": [
      "     weekday  trip_count\n",
      "0  Wednesday     8377153\n",
      "1   Thursday     8255421\n",
      "2    Tuesday     8161606\n",
      "3     Friday     7872756\n",
      "4     Monday     7658271\n",
      "5   Saturday     6540825\n",
      "6     Sunday     6242689\n",
      "7       None     5828994\n"
     ]
    }
   ],
   "source": [
    "# Define your query — example: Citbike Trip dataset\n",
    "f_dow_query = \"\"\"\n",
    "SELECT\n",
    "  FORMAT_TIMESTAMP('%A', starttime) AS weekday,\n",
    "  COUNT(*)                          AS trip_count\n",
    "FROM\n",
    "  `bigquery-public-data.new_york_citibike.citibike_trips`\n",
    "GROUP BY\n",
    "  weekday\n",
    "ORDER BY\n",
    "2 DESC\n",
    "\n",
    "\"\"\"\n",
    "\n",
    "# Run the query\n",
    "f_dow_query_job = client.query(f_dow_query)\n",
    "\n",
    "# Convert to pandas DataFrame\n",
    "results = f_dow_query_job.to_dataframe()\n",
    "print(results)"
   ]
  },
  {
   "cell_type": "code",
   "execution_count": 43,
   "id": "996222e8-3945-4857-bd8f-6356f2df991e",
   "metadata": {},
   "outputs": [
    {
     "name": "stdout",
     "output_type": "stream",
     "text": [
      "    month  trip_count\n",
      "0    <NA>     5828994\n",
      "1       1     1814424\n",
      "2       2     1825654\n",
      "3       3     2677536\n",
      "4       4     4959266\n",
      "5       5     6388361\n",
      "6       6     5070011\n",
      "7       7     6013643\n",
      "8       8     6518652\n",
      "9       9     6804899\n",
      "10     10     4976292\n",
      "11     11     3522856\n",
      "12     12     2537127\n"
     ]
    },
    {
     "name": "stderr",
     "output_type": "stream",
     "text": [
      "/Library/Frameworks/Python.framework/Versions/3.11/lib/python3.11/site-packages/google/cloud/bigquery/table.py:1965: UserWarning: BigQuery Storage module not found, fetch data with the REST endpoint instead.\n",
      "  warnings.warn(\n"
     ]
    }
   ],
   "source": [
    "# Define your query — example: Citbike Trip dataset\n",
    "f_month_query = \"\"\"\n",
    "SELECT\n",
    "  EXTRACT(MONTH FROM starttime) AS month,\n",
    "  COUNT(*)                     AS trip_count\n",
    "FROM\n",
    "  `bigquery-public-data.new_york_citibike.citibike_trips`\n",
    "GROUP BY\n",
    "  month\n",
    "ORDER BY\n",
    "  month\n",
    "\n",
    "\"\"\"\n",
    "\n",
    "# Run the query\n",
    "f_month_query_job = client.query(f_month_query)\n",
    "\n",
    "# Convert to pandas DataFrame\n",
    "results = f_month_query_job.to_dataframe()\n",
    "print(results)"
   ]
  },
  {
   "cell_type": "markdown",
   "id": "a82f0584-6ceb-42f7-9445-243d9c27e1d8",
   "metadata": {},
   "source": [
    "How does usage differ between members and casual riders?"
   ]
  },
  {
   "cell_type": "code",
   "execution_count": 45,
   "id": "dbef5074-c1f7-4920-97e2-07a908ace633",
   "metadata": {},
   "outputs": [
    {
     "name": "stderr",
     "output_type": "stream",
     "text": [
      "/Library/Frameworks/Python.framework/Versions/3.11/lib/python3.11/site-packages/google/cloud/bigquery/table.py:1965: UserWarning: BigQuery Storage module not found, fetch data with the REST endpoint instead.\n",
      "  warnings.warn(\n"
     ]
    },
    {
     "name": "stdout",
     "output_type": "stream",
     "text": [
      "     usertype  trip_count  avg_duration_mins\n",
      "0  Subscriber    46917572              13.44\n",
      "1    Customer     6191149              35.76\n",
      "2                 5828994                NaN\n"
     ]
    }
   ],
   "source": [
    "# Define your query — example: Citbike Trip dataset\n",
    "test_query = \"\"\"\n",
    "SELECT\n",
    "  usertype,\n",
    "  COUNT(*)                  AS trip_count,\n",
    "  ROUND(AVG(tripduration)/60,2) AS avg_duration_mins\n",
    "FROM\n",
    "  `bigquery-public-data.new_york_citibike.citibike_trips`\n",
    "GROUP BY\n",
    "  usertype;\n",
    "\n",
    "\"\"\"\n",
    "\n",
    "# Run the query\n",
    "test_query_job = client.query(test_query)\n",
    "\n",
    "# Convert to pandas DataFrame\n",
    "results = test_query_job.to_dataframe()\n",
    "print(results)"
   ]
  },
  {
   "cell_type": "code",
   "execution_count": 46,
   "id": "93adb836-7e4c-47c0-8049-bedae3e936a0",
   "metadata": {},
   "outputs": [
    {
     "name": "stderr",
     "output_type": "stream",
     "text": [
      "/Library/Frameworks/Python.framework/Versions/3.11/lib/python3.11/site-packages/google/cloud/bigquery/table.py:1965: UserWarning: BigQuery Storage module not found, fetch data with the REST endpoint instead.\n",
      "  warnings.warn(\n"
     ]
    },
    {
     "name": "stdout",
     "output_type": "stream",
     "text": [
      "      usertype  hour    trips\n",
      "0               <NA>  5828994\n",
      "1     Customer     0    61892\n",
      "2     Customer     1    37299\n",
      "3     Customer     2    23218\n",
      "4     Customer     3    14222\n",
      "5     Customer     4     9755\n",
      "6     Customer     5     8600\n",
      "7     Customer     6    22402\n",
      "8     Customer     7    54941\n",
      "9     Customer     8   126230\n",
      "10    Customer     9   210230\n",
      "11    Customer    10   327418\n",
      "12    Customer    11   446716\n",
      "13    Customer    12   518746\n",
      "14    Customer    13   556523\n",
      "15    Customer    14   591318\n",
      "16    Customer    15   608240\n",
      "17    Customer    16   594136\n",
      "18    Customer    17   549561\n",
      "19    Customer    18   458646\n",
      "20    Customer    19   338112\n",
      "21    Customer    20   232001\n",
      "22    Customer    21   167923\n",
      "23    Customer    22   135391\n",
      "24    Customer    23    97629\n",
      "25  Subscriber     0   431582\n",
      "26  Subscriber     1   236831\n",
      "27  Subscriber     2   137521\n",
      "28  Subscriber     3    84867\n",
      "29  Subscriber     4    84524\n",
      "30  Subscriber     5   289110\n",
      "31  Subscriber     6  1099449\n",
      "32  Subscriber     7  2297143\n",
      "33  Subscriber     8  4035446\n",
      "34  Subscriber     9  3136462\n",
      "35  Subscriber    10  2011676\n",
      "36  Subscriber    11  2023430\n",
      "37  Subscriber    12  2353139\n",
      "38  Subscriber    13  2455646\n",
      "39  Subscriber    14  2511785\n",
      "40  Subscriber    15  2649351\n",
      "41  Subscriber    16  3204278\n",
      "42  Subscriber    17  4683186\n",
      "43  Subscriber    18  4566077\n",
      "44  Subscriber    19  3178913\n",
      "45  Subscriber    20  2121726\n",
      "46  Subscriber    21  1479778\n",
      "47  Subscriber    22  1106762\n",
      "48  Subscriber    23   738890\n"
     ]
    }
   ],
   "source": [
    "# Define your query — example: Citbike Trip dataset\n",
    "pattern_query = \"\"\"\n",
    "SELECT\n",
    "  usertype,\n",
    "  EXTRACT(HOUR FROM starttime) AS hour,\n",
    "  COUNT(*)                    AS trips\n",
    "FROM\n",
    "  `bigquery-public-data.new_york_citibike.citibike_trips`\n",
    "GROUP BY\n",
    "  usertype, hour\n",
    "ORDER BY\n",
    "  usertype, hour;\n",
    "\n",
    "\n",
    "\"\"\"\n",
    "\n",
    "# Run the query\n",
    "pattern_query_job = client.query(pattern_query)\n",
    "\n",
    "# Convert to pandas DataFrame\n",
    "results = pattern_query_job.to_dataframe()\n",
    "print(results)"
   ]
  },
  {
   "cell_type": "markdown",
   "id": "be3a78bf-3c06-47fe-9ce2-6740f0c4b762",
   "metadata": {},
   "source": [
    "Are trip durations meaningfully different across user segments or times?"
   ]
  },
  {
   "cell_type": "code",
   "execution_count": null,
   "id": "050f19f0-9e8c-47c6-a1cf-9ac9d179f188",
   "metadata": {},
   "outputs": [],
   "source": []
  },
  {
   "cell_type": "code",
   "execution_count": null,
   "id": "fa0facae-fdb3-4983-9c0e-192d29773dcc",
   "metadata": {},
   "outputs": [],
   "source": []
  },
  {
   "cell_type": "code",
   "execution_count": 48,
   "id": "30a8cda6-b792-4f74-8316-1674f967708e",
   "metadata": {},
   "outputs": [
    {
     "name": "stderr",
     "output_type": "stream",
     "text": [
      "/Library/Frameworks/Python.framework/Versions/3.11/lib/python3.11/site-packages/google/cloud/bigquery/table.py:1965: UserWarning: BigQuery Storage module not found, fetch data with the REST endpoint instead.\n",
      "  warnings.warn(\n"
     ]
    },
    {
     "name": "stdout",
     "output_type": "stream",
     "text": [
      "     usertype  avg_duration_mins     trips\n",
      "0  Subscriber              13.44  46917572\n",
      "1    Customer              35.76   6191149\n",
      "2                            NaN   5828994\n"
     ]
    }
   ],
   "source": [
    "# Define your query — example: Citbike Trip dataset\n",
    "avg_duration_query = \"\"\"\n",
    "SELECT\n",
    "  usertype,\n",
    "  ROUND(AVG(tripduration)/60, 2) AS avg_duration_mins,\n",
    "  COUNT(*)                     AS trips\n",
    "FROM\n",
    "  `bigquery-public-data.new_york_citibike.citibike_trips`\n",
    "GROUP BY\n",
    "  usertype;\n",
    "\n",
    "\"\"\"\n",
    "\n",
    "# Run the query\n",
    "avg_duration_query_job = client.query(avg_duration_query)\n",
    "\n",
    "# Convert to pandas DataFrame\n",
    "results = avg_duration_query_job.to_dataframe()\n",
    "print(results)"
   ]
  },
  {
   "cell_type": "code",
   "execution_count": 47,
   "id": "51f7c9b1-1c0d-4a10-85a4-28fb14918001",
   "metadata": {},
   "outputs": [
    {
     "name": "stderr",
     "output_type": "stream",
     "text": [
      "/Library/Frameworks/Python.framework/Versions/3.11/lib/python3.11/site-packages/google/cloud/bigquery/table.py:1965: UserWarning: BigQuery Storage module not found, fetch data with the REST endpoint instead.\n",
      "  warnings.warn(\n"
     ]
    },
    {
     "name": "stdout",
     "output_type": "stream",
     "text": [
      "    hour_of_day    usertype  avg_duration_mins    trips\n",
      "0          <NA>                            NaN  5828994\n",
      "1             0    Customer              39.69    61892\n",
      "2             0  Subscriber              13.30   431582\n",
      "3             1    Customer              48.73    37299\n",
      "4             1  Subscriber              13.51   236831\n",
      "5             2    Customer              47.91    23218\n",
      "6             2  Subscriber              13.09   137521\n",
      "7             3    Customer              78.73    14222\n",
      "8             3  Subscriber              12.64    84867\n",
      "9             4    Customer              66.20     9755\n",
      "10            4  Subscriber              13.06    84524\n",
      "11            5    Customer              44.99     8600\n",
      "12            5  Subscriber              10.84   289110\n",
      "13            6    Customer              31.63    22402\n",
      "14            6  Subscriber              11.06  1099449\n",
      "15            7    Customer              28.60    54941\n",
      "16            7  Subscriber              12.25  2297143\n",
      "17            8    Customer              29.06   126230\n",
      "18            8  Subscriber              12.95  4035446\n",
      "19            9    Customer              32.45   210230\n",
      "20            9  Subscriber              12.67  3136462\n",
      "21           10    Customer              34.64   327418\n",
      "22           10  Subscriber              12.93  2011676\n",
      "23           11    Customer              34.55   446716\n",
      "24           11  Subscriber              13.55  2023430\n",
      "25           12    Customer              33.89   518746\n",
      "26           12  Subscriber              13.21  2353139\n",
      "27           13    Customer              34.64   556523\n",
      "28           13  Subscriber              13.33  2455646\n",
      "29           14    Customer              36.48   591318\n",
      "30           14  Subscriber              13.65  2511785\n",
      "31           15    Customer              37.32   608240\n",
      "32           15  Subscriber              13.84  2649351\n",
      "33           16    Customer              36.51   594136\n",
      "34           16  Subscriber              13.90  3204278\n",
      "35           17    Customer              34.50   549561\n",
      "36           17  Subscriber              14.21  4683186\n",
      "37           18    Customer              36.19   458646\n",
      "38           18  Subscriber              14.19  4566077\n",
      "39           19    Customer              35.17   338112\n",
      "40           19  Subscriber              13.81  3178913\n",
      "41           20    Customer              37.07   232001\n",
      "42           20  Subscriber              13.74  2121726\n",
      "43           21    Customer              39.80   167923\n",
      "44           21  Subscriber              13.50  1479778\n",
      "45           22    Customer              34.75   135391\n",
      "46           22  Subscriber              13.77  1106762\n",
      "47           23    Customer              41.41    97629\n",
      "48           23  Subscriber              13.33   738890\n"
     ]
    }
   ],
   "source": [
    "# Define your query — example: Citbike Trip dataset\n",
    "rt_hour_query = \"\"\"\n",
    "SELECT\n",
    "  EXTRACT(HOUR FROM starttime) AS hour_of_day,\n",
    "  usertype,\n",
    "  ROUND(AVG(tripduration)/60, 2) AS avg_duration_mins,\n",
    "  COUNT(*)                     AS trips\n",
    "FROM\n",
    "  `bigquery-public-data.new_york_citibike.citibike_trips`\n",
    "GROUP BY\n",
    "  hour_of_day,\n",
    "  usertype\n",
    "ORDER BY\n",
    "  hour_of_day,\n",
    "  usertype;\n",
    "\n",
    "\"\"\"\n",
    "\n",
    "# Run the query\n",
    "rt_hour_query_job = client.query(rt_hour_query)\n",
    "\n",
    "# Convert to pandas DataFrame\n",
    "results = rt_hour_query_job.to_dataframe()\n",
    "print(results)"
   ]
  },
  {
   "cell_type": "code",
   "execution_count": 50,
   "id": "d7e17831-40ad-40bc-b717-ef4b4f920e14",
   "metadata": {},
   "outputs": [
    {
     "name": "stderr",
     "output_type": "stream",
     "text": [
      "/Library/Frameworks/Python.framework/Versions/3.11/lib/python3.11/site-packages/google/cloud/bigquery/table.py:1965: UserWarning: BigQuery Storage module not found, fetch data with the REST endpoint instead.\n",
      "  warnings.warn(\n"
     ]
    },
    {
     "name": "stdout",
     "output_type": "stream",
     "text": [
      "      weekday    usertype  avg_duration_mins    trips\n",
      "0        None                            NaN  5828994\n",
      "1      Friday    Customer              37.34   766364\n",
      "2      Friday  Subscriber              13.33  7106392\n",
      "3      Monday    Customer              34.75   732515\n",
      "4      Monday  Subscriber              13.18  6925756\n",
      "5    Saturday  Subscriber              14.42  5077299\n",
      "6    Saturday    Customer              35.30  1463526\n",
      "7      Sunday    Customer              34.98  1370737\n",
      "8      Sunday  Subscriber              14.29  4871952\n",
      "9    Thursday    Customer              36.87   638859\n",
      "10   Thursday  Subscriber              13.14  7616562\n",
      "11    Tuesday  Subscriber              13.09  7554246\n",
      "12    Tuesday    Customer              34.66   607360\n",
      "13  Wednesday  Subscriber              13.23  7765365\n",
      "14  Wednesday    Customer              37.77   611788\n"
     ]
    }
   ],
   "source": [
    "# Define your query — example: Citbike Trip dataset\n",
    "rt_dow_query = \"\"\"\n",
    "SELECT\n",
    "  FORMAT_TIMESTAMP('%A', starttime) AS weekday,\n",
    "  usertype,\n",
    "  ROUND(AVG(tripduration)/60, 2)     AS avg_duration_mins,\n",
    "  COUNT(*)                         AS trips\n",
    "FROM\n",
    "  `bigquery-public-data.new_york_citibike.citibike_trips`\n",
    "GROUP BY\n",
    "  weekday,\n",
    "  usertype\n",
    "ORDER BY\n",
    "1\n",
    "\n",
    "\"\"\"\n",
    "\n",
    "# Run the query\n",
    "rt_dow_query_job = client.query(rt_dow_query)\n",
    "\n",
    "# Convert to pandas DataFrame\n",
    "results = rt_dow_query_job.to_dataframe()\n",
    "print(results)"
   ]
  },
  {
   "cell_type": "code",
   "execution_count": 51,
   "id": "3a8e71e8-17fb-4f8e-9b03-1924b2c0d210",
   "metadata": {},
   "outputs": [
    {
     "name": "stderr",
     "output_type": "stream",
     "text": [
      "/Library/Frameworks/Python.framework/Versions/3.11/lib/python3.11/site-packages/google/cloud/bigquery/table.py:1965: UserWarning: BigQuery Storage module not found, fetch data with the REST endpoint instead.\n",
      "  warnings.warn(\n"
     ]
    },
    {
     "name": "stdout",
     "output_type": "stream",
     "text": [
      "    month    usertype  avg_duration_mins    trips\n",
      "0    <NA>                            NaN  5828994\n",
      "1       1    Customer              49.91    59533\n",
      "2       1  Subscriber              11.92  1754891\n",
      "3       2    Customer              59.14    72165\n",
      "4       2  Subscriber              12.36  1753489\n",
      "5       3    Customer              43.80   188006\n",
      "6       3  Subscriber              12.52  2489530\n",
      "7       4    Customer              39.05   597896\n",
      "8       4  Subscriber              13.57  4361370\n",
      "9       5    Customer              37.49   867463\n",
      "10      5  Subscriber              13.87  5520898\n",
      "11      6    Customer              34.77   620060\n",
      "12      6  Subscriber              13.85  4449951\n",
      "13      7    Customer              31.32   937944\n",
      "14      7  Subscriber              13.74  5075699\n",
      "15      8    Customer              33.98  1019225\n",
      "16      8  Subscriber              13.89  5499427\n",
      "17      9    Customer              31.33   910797\n",
      "18      9  Subscriber              13.77  5894102\n",
      "19     10    Customer              40.36   518040\n",
      "20     10  Subscriber              13.72  4458252\n",
      "21     11    Customer              37.75   261873\n",
      "22     11  Subscriber              12.75  3260983\n",
      "23     12    Customer              37.28   138147\n",
      "24     12  Subscriber              12.25  2398980\n"
     ]
    }
   ],
   "source": [
    "# Define your query — example: Citbike Trip dataset\n",
    "rt_month_query = \"\"\"\n",
    "SELECT\n",
    "  EXTRACT(MONTH FROM starttime) AS month,\n",
    "  usertype,\n",
    "  ROUND(AVG(tripduration)/60, 2) AS avg_duration_mins,\n",
    "  COUNT(*)                     AS trips\n",
    "FROM\n",
    "  `bigquery-public-data.new_york_citibike.citibike_trips`\n",
    "GROUP BY\n",
    "  month,\n",
    "  usertype\n",
    "ORDER BY\n",
    "  month,\n",
    "  usertype;\n",
    "\n",
    "\n",
    "\n",
    "\"\"\"\n",
    "\n",
    "# Run the query\n",
    "rt_month_query_job = client.query(rt_month_query)\n",
    "\n",
    "# Convert to pandas DataFrame\n",
    "results = rt_month_query_job.to_dataframe()\n",
    "print(results)"
   ]
  },
  {
   "cell_type": "markdown",
   "id": "13051af2-784c-49a3-bc70-5201c6b6a224",
   "metadata": {},
   "source": [
    "Which station pairs are most frequently used?"
   ]
  },
  {
   "cell_type": "code",
   "execution_count": null,
   "id": "81150061-f36b-46d8-bcf0-53c4e4c57ddb",
   "metadata": {},
   "outputs": [],
   "source": []
  },
  {
   "cell_type": "code",
   "execution_count": 171,
   "id": "1810e882-23fd-4e02-be89-a9659b9914e8",
   "metadata": {},
   "outputs": [
    {
     "name": "stderr",
     "output_type": "stream",
     "text": [
      "/Library/Frameworks/Python.framework/Versions/3.11/lib/python3.11/site-packages/google/cloud/bigquery/table.py:1965: UserWarning: BigQuery Storage module not found, fetch data with the REST endpoint instead.\n",
      "  warnings.warn(\n"
     ]
    },
    {
     "name": "stdout",
     "output_type": "stream",
     "text": [
      "                  start_station_name                   end_station_name  \\\n",
      "0                                                                         \n",
      "1             Central Park S & 6 Ave             Central Park S & 6 Ave   \n",
      "2  Grand Army Plaza & Central Park S  Grand Army Plaza & Central Park S   \n",
      "3            Centre St & Chambers St            Centre St & Chambers St   \n",
      "4                 Broadway & W 60 St                 Broadway & W 60 St   \n",
      "5                   12 Ave & W 40 St              West St & Chambers St   \n",
      "6                    W 21 St & 6 Ave                    9 Ave & W 22 St   \n",
      "7                    W 21 St & 6 Ave                   W 22 St & 10 Ave   \n",
      "8              West St & Chambers St                   12 Ave & W 40 St   \n",
      "9              West St & Chambers St              West St & Chambers St   \n",
      "\n",
      "   trip_count  \n",
      "0     5828994  \n",
      "1       55703  \n",
      "2       25573  \n",
      "3       19670  \n",
      "4       19475  \n",
      "5       18667  \n",
      "6       17509  \n",
      "7       15120  \n",
      "8       14353  \n",
      "9       14165  \n"
     ]
    }
   ],
   "source": [
    "# Define your query — example: Citbike Trip dataset\n",
    "query = \"\"\"\n",
    "SELECT\n",
    "  start_station_name,\n",
    "  end_station_name,\n",
    "  COUNT(*) AS trip_count\n",
    "FROM\n",
    "  `bigquery-public-data.new_york_citibike.citibike_trips`\n",
    "GROUP BY\n",
    "  start_station_name,\n",
    "  end_station_name\n",
    "ORDER BY\n",
    "  trip_count DESC\n",
    "LIMIT\n",
    "  10;\n",
    "\n",
    "\"\"\"\n",
    "\n",
    "# Run the query\n",
    "pair_query_job = client.query(query)\n",
    "\n",
    "# Convert to pandas DataFrame\n",
    "results = pair_query_job.to_dataframe()\n",
    "print(results)"
   ]
  },
  {
   "cell_type": "code",
   "execution_count": 196,
   "id": "c0e8ecd6-85a6-4e5e-9555-95f2b0231ba9",
   "metadata": {},
   "outputs": [
    {
     "name": "stderr",
     "output_type": "stream",
     "text": [
      "/Library/Frameworks/Python.framework/Versions/3.11/lib/python3.11/site-packages/google/cloud/bigquery/table.py:1965: UserWarning: BigQuery Storage module not found, fetch data with the REST endpoint instead.\n",
      "  warnings.warn(\n"
     ]
    },
    {
     "name": "stdout",
     "output_type": "stream",
     "text": [
      "user_type                 Customer  Subscriber\n",
      "station_name                                  \n",
      "Pershing Square North  0     26347      474393\n",
      "W 21 St & 6 Ave        0     18229      425091\n",
      "E 17 St & Broadway     0     37743      423714\n",
      "8 Ave & W 31 St        0     25585      405731\n",
      "Broadway & E 22 St     0     25063      379511\n",
      "Lafayette St & E 8 St  0     26169      357813\n",
      "Broadway & E 14 St     0     30492      347109\n",
      "8 Ave & W 33 St        0     23137      341932\n",
      "W 41 St & 8 Ave        0     19628      325276\n",
      "West St & Chambers St  0     84820      324990\n"
     ]
    }
   ],
   "source": [
    "import matplotlib.pyplot as plt\n",
    "import matplotlib.dates as mdates\n",
    "import pandas as pd\n",
    "import glob\n",
    "import os\n",
    "from pathlib import Path\n",
    "\n",
    "# 1) SQL with station_id included and no premature aggregation\n",
    "bq_sql = \"\"\"\n",
    "WITH daily AS (\n",
    "  SELECT\n",
    "    t.start_station_id            AS station_id,\n",
    "    t.start_station_name          AS station_name,\n",
    "    DATE(t.starttime)             AS trip_date,\n",
    "    t.usertype                    AS user_type,\n",
    "    COUNT(*)                      AS trip_count\n",
    "  FROM `bigquery-public-data.new_york_citibike.citibike_trips` t\n",
    "  GROUP BY 1,2,3,4\n",
    "),\n",
    "\n",
    "cut AS (\n",
    "  SELECT\n",
    "    APPROX_QUANTILES(trip_count, 100)[SAFE_OFFSET(33)] AS p33,\n",
    "    APPROX_QUANTILES(trip_count, 100)[SAFE_OFFSET(66)] AS p66\n",
    "  FROM daily\n",
    ")\n",
    "\n",
    "SELECT\n",
    "  d.*,\n",
    "  CASE\n",
    "    WHEN trip_count <= c.p33 THEN 'Low'\n",
    "    WHEN trip_count <= c.p66 THEN 'Medium'\n",
    "    ELSE 'High'\n",
    "  END AS demand_category\n",
    "FROM daily d\n",
    "CROSS JOIN cut c\n",
    "\"\"\"\n",
    "# Storage API -> much faster download\n",
    "bq_df = client.query(bq_sql).result().to_dataframe(bqstorage_client=True)\n",
    "\n",
    "# ────────────────────────────────────────────────────────────────\n",
    "# 2)  Local CSVs — same schema as citibike_trips\n",
    "#     • folder:  ~/Downloads/missing_data\n",
    "#     • gender: 0→unknown, 1→male, 2→female\n",
    "# ────────────────────────────────────────────────────────────────\n",
    "data_dir  = Path(tsv_path).expanduser().resolve().parent   # <‑‑ folder for both TSV + CSV\n",
    "csv_files = list(data_dir.glob(\"*.csv\"))                   # pick up every *.csv inside\n",
    "\n",
    "csv_df_list = []\n",
    "for fp in csv_files:\n",
    "    df = pd.read_csv(fp, parse_dates=[\"Start Time\", \"Stop Time\"], low_memory=False)\n",
    "\n",
    "\n",
    "    df = (\n",
    "        df.assign(\n",
    "            station_id=df[\"Start Station ID\"].astype(\"Int64\"),\n",
    "            station_name=df[\"Start Station Name\"].astype(\"string\"),\n",
    "            trip_date=df[\"Start Time\"].dt.date,\n",
    "            gender=df[\"Gender\"].astype(\"string\"),\n",
    "            user_type=df[\"User Type\"].astype(\"string\"),\n",
    "            birth_year=df[\"Birth Year\"].astype(\"Int64\")\n",
    "            \n",
    "        )\n",
    "        .loc[:, [\"station_id\", \"station_name\", \"trip_date\", \"gender\", \"user_type\", \"birth_year\"]]\n",
    "    )\n",
    "\n",
    "    df[\"gender\"] = (\n",
    "        df[\"gender\"]\n",
    "          .map({0: \"unknown\", 1: \"male\", 2: \"female\"})\n",
    "          .fillna(\"unknown\")\n",
    "          .astype(\"string\")\n",
    "    )\n",
    "\n",
    "    daily = (\n",
    "        df.groupby([\"station_id\", \"station_name\", \"trip_date\", \"gender\", \"user_type\", \"birth_year\"])\n",
    "          .size()\n",
    "          .reset_index(name=\"trip_count\")\n",
    "    )\n",
    "\n",
    "    csv_df_list.append(daily)\n",
    "\n",
    "csv_df = (\n",
    "    pd.concat(csv_df_list, ignore_index=True)\n",
    "      .assign(src=\"local_csv\")\n",
    ")\n",
    "\n",
    "# apply the same demand buckets used for BQ data\n",
    "p33, p66 = csv_df[\"trip_count\"].quantile([.33, .66])\n",
    "csv_df[\"demand_category\"] = pd.cut(\n",
    "    csv_df[\"trip_count\"],\n",
    "    bins=[-float(\"inf\"), p33, p66, float(\"inf\")],\n",
    "    labels=[\"Low\", \"Medium\", \"High\"],\n",
    "    right=True,\n",
    ")\n",
    "\n",
    "# ────────────────────────────────────────────────────────────────\n",
    "# 3)  Stack BigQuery + CSV data, continue as before\n",
    "# ────────────────────────────────────────────────────────────────\n",
    "results = pd.concat([bq_df, csv_df], ignore_index=True)\n",
    "\n",
    "results['station_id'] = (\n",
    "    pd.to_numeric(results['station_id'], errors='coerce')  # force strings → numbers\n",
    "      .astype('Int64')                                     # nullable int dtype\n",
    ")\n",
    "\n",
    "# ────────────────────────────────────────────────────────────────\n",
    "# 2) Read TSV (station_id as STRING)\n",
    "# ────────────────────────────────────────────────────────────────\n",
    "stations_boro = (\n",
    "    pd.read_csv(tsv_path, sep=\"\\t\", dtype={'station_id': int})\n",
    "      .loc[:, ['station_id', 'boro']]\n",
    "      .drop_duplicates()\n",
    ")\n",
    "\n",
    "# ────────────────────────────────────────────────────────────────\n",
    "# 3) Merge\n",
    "# ────────────────────────────────────────────────────────────────\n",
    "stations_boro['station_id'] = stations_boro['station_id'].astype('Int64')\n",
    "merged = results.merge(stations_boro, on='station_id', how='left')\n",
    "\n",
    "# ------------------------------------------------------------------\n",
    "# A)  Pivot: station × user_type  ➜ every cell = total trips\n",
    "# ------------------------------------------------------------------\n",
    "station_user = (\n",
    "    merged\n",
    "      .groupby(['station_name', 'user_type'])['trip_count']\n",
    "      .sum()\n",
    "      .reset_index()\n",
    ")\n",
    "\n",
    "pivot = (\n",
    "    station_user\n",
    "      .pivot(index='station_name', columns='user_type', values='trip_count')\n",
    "      .fillna(0)\n",
    "      .sort_values(by='Subscriber', ascending=False)   # or any column\n",
    ")\n",
    "\n",
    "print(pivot.head(10))          # top 10 stations by Subscriber trips"
   ]
  },
  {
   "cell_type": "code",
   "execution_count": null,
   "id": "337398e8-b199-4e23-868d-20cd7f771ee8",
   "metadata": {},
   "outputs": [],
   "source": []
  }
 ],
 "metadata": {
  "kernelspec": {
   "display_name": "Python 3 (ipykernel)",
   "language": "python",
   "name": "python3"
  },
  "language_info": {
   "codemirror_mode": {
    "name": "ipython",
    "version": 3
   },
   "file_extension": ".py",
   "mimetype": "text/x-python",
   "name": "python",
   "nbconvert_exporter": "python",
   "pygments_lexer": "ipython3",
   "version": "3.11.0"
  }
 },
 "nbformat": 4,
 "nbformat_minor": 5
}
